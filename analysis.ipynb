{
 "cells": [
  {
   "cell_type": "markdown",
   "id": "3473a655-3787-479b-b942-1dcb6d6ff2c5",
   "metadata": {},
   "source": [
    "## About the Dataset"
   ]
  },
  {
   "cell_type": "markdown",
   "id": "fb8e1e94-108e-4d10-9c72-21a355672cdf",
   "metadata": {},
   "source": [
    "The dataset consists of 55,000 synthetic customer transaction records from India, generated using Python’s Faker library. It contains 13 columns, each providing valuable information about customer transactions:\n",
    "\n",
    "1. **CID (Customer ID)**: A unique identifier for each customer.\n",
    "2. **TID (Transaction ID)**: A unique identifier for each transaction.\n",
    "3. **Gender**: The gender of the customer (Male/Female).\n",
    "4. **Age Group**: The customer’s age group, divided into categories such as 18-25, 25-45, etc.\n",
    "5. **Purchase Date**: The timestamp of the transaction.\n",
    "6. **Product Category**: The category of the purchased product (e.g., Electronics, Apparel, etc.).\n",
    "7. **Discount Availed**: Indicates if a discount was applied (Yes/No).\n",
    "8. **Discount Name**: The name of the applied discount (e.g., FESTIVE50).\n",
    "9. **Discount Amount (INR)**: The amount of discount availed.\n",
    "10. **Gross Amount**: The total amount before any discount.\n",
    "11. **Net Amount**: The final amount after applying the discount.\n",
    "12. **Purchase Method**: The method of payment used (e.g., Credit Card, Debit Card, UPI, etc.).\n",
    "13. **Location**: The city where the purchase occurred.\n",
    "\n",
    "This dataset offers a comprehensive look at customer transactions, providing insights into purchasing patterns, payment methods, and discount usage across different customer demographics."
   ]
  },
  {
   "cell_type": "markdown",
   "id": "5e1eba65-c37e-44fd-9c00-f5b660e1771e",
   "metadata": {},
   "source": [
    "### Initial Step: Loading Data"
   ]
  },
  {
   "cell_type": "markdown",
   "id": "12d5763f-77c4-4e63-942d-d979346e656c",
   "metadata": {},
   "source": [
    "At the start of the project, I use the pandas library to load data from a CSV file. Pandas helps me easily work with tables, so I can analyze and clean the data:"
   ]
  },
  {
   "cell_type": "code",
   "execution_count": 1,
   "id": "33b8386e-3d73-4952-9dee-6c855b8306b5",
   "metadata": {},
   "outputs": [],
   "source": [
    "import pandas as pd\n",
    "import csv"
   ]
  },
  {
   "cell_type": "markdown",
   "id": "4621d450-8e29-4fdc-8a30-517e1db2a378",
   "metadata": {},
   "source": [
    "To load the data, just write the path to your CSV file. Replace `data/ecommerce_dataset.csv` with the real file location on your computer:"
   ]
  },
  {
   "cell_type": "code",
   "execution_count": 3,
   "id": "dac8d568-4903-409c-8bdc-165607c8f17d",
   "metadata": {},
   "outputs": [],
   "source": [
    "data_path = 'data/ecommerce_dataset.csv'"
   ]
  },
  {
   "cell_type": "markdown",
   "id": "75180769-796a-4fa2-a838-7aedae30ca94",
   "metadata": {},
   "source": [
    "I use `pd.read_csv()` from pandas to load the data into a DataFrame. This makes it easier to work with tables:"
   ]
  },
  {
   "cell_type": "code",
   "execution_count": 5,
   "id": "7a5d9e02-6ddd-4270-b069-8625dd6c1e45",
   "metadata": {},
   "outputs": [],
   "source": [
    "df = pd.read_csv(data_path)"
   ]
  },
  {
   "cell_type": "markdown",
   "id": "b5398b85-fde4-4476-9b25-404adae298c7",
   "metadata": {},
   "source": [
    "### Data Analysis Before Starting Work:"
   ]
  },
  {
   "cell_type": "markdown",
   "id": "0c91b66b-0c0f-4d8f-a0d2-13626b7b31c4",
   "metadata": {},
   "source": [
    "The first step is to understand the dimensions of the data, specifically the number of rows and columns. I use the `.shape` method to get this information:"
   ]
  },
  {
   "cell_type": "code",
   "execution_count": 8,
   "id": "0bbf3e1a-a8f2-47ea-9c69-9fbd0dad80d2",
   "metadata": {},
   "outputs": [
    {
     "name": "stdout",
     "output_type": "stream",
     "text": [
      "The dataset contains 55000 rows and 13 columns.\n"
     ]
    }
   ],
   "source": [
    "df_shape = df.shape\n",
    "print(f'The dataset contains {df_shape[0]} rows and {df_shape[1]} columns.')"
   ]
  },
  {
   "cell_type": "markdown",
   "id": "3b2a97e6-cf90-4584-b406-fc3d78cf7906",
   "metadata": {},
   "source": [
    "Next, I check the general structure of the DataFrame using the `df.info()` method, which provides details about the number of non-null values, data types, and memory usage:"
   ]
  },
  {
   "cell_type": "code",
   "execution_count": 12,
   "id": "af60d0bd-e04d-4d66-b6fc-f5b2e116be2a",
   "metadata": {},
   "outputs": [
    {
     "name": "stdout",
     "output_type": "stream",
     "text": [
      "<class 'pandas.core.frame.DataFrame'>\n",
      "RangeIndex: 55000 entries, 0 to 54999\n",
      "Data columns (total 13 columns):\n",
      " #   Column                 Non-Null Count  Dtype  \n",
      "---  ------                 --------------  -----  \n",
      " 0   CID                    55000 non-null  int64  \n",
      " 1   TID                    55000 non-null  int64  \n",
      " 2   Gender                 55000 non-null  object \n",
      " 3   Age Group              55000 non-null  object \n",
      " 4   Purchase Date          55000 non-null  object \n",
      " 5   Product Category       55000 non-null  object \n",
      " 6   Discount Availed       55000 non-null  object \n",
      " 7   Discount Name          27415 non-null  object \n",
      " 8   Discount Amount (INR)  55000 non-null  float64\n",
      " 9   Gross Amount           55000 non-null  float64\n",
      " 10  Net Amount             55000 non-null  float64\n",
      " 11  Purchase Method        55000 non-null  object \n",
      " 12  Location               55000 non-null  object \n",
      "dtypes: float64(3), int64(2), object(8)\n",
      "memory usage: 5.5+ MB\n"
     ]
    }
   ],
   "source": [
    "df.info()"
   ]
  },
  {
   "cell_type": "markdown",
   "id": "889f2e09-ffdd-4b2e-a4bc-d4300a2ba77c",
   "metadata": {},
   "source": [
    "Next, I check how much memory the dataset consumes using `.memory_usage(deep=True)`, which returns the memory usage for each column in bytes. To convert this to megabytes, I divide the result by the appropriate factor:"
   ]
  },
  {
   "cell_type": "code",
   "execution_count": 16,
   "id": "fb4a5fdc-9392-46d8-82af-75edb00facb7",
   "metadata": {},
   "outputs": [
    {
     "name": "stdout",
     "output_type": "stream",
     "text": [
      "Total memory: 25.70 MB\n"
     ]
    }
   ],
   "source": [
    "total_bytes = df.memory_usage(deep=True).sum()\n",
    "total_megabytes = total_bytes / (1024 ** 2)\n",
    "print(f'Total memory: {total_megabytes:.2f} MB')"
   ]
  },
  {
   "cell_type": "markdown",
   "id": "bc39c186-b7e5-45a2-9d50-045761850031",
   "metadata": {},
   "source": [
    "After loading the data, I use the `head()` method to preview the first few rows and the `tail()` method to preview the last three rows to ensure the data is loaded correctly:"
   ]
  },
  {
   "cell_type": "code",
   "execution_count": 20,
   "id": "ec0b19a3-2a4b-492c-b072-be6effd88fc7",
   "metadata": {},
   "outputs": [
    {
     "data": {
      "text/html": [
       "<div>\n",
       "<style scoped>\n",
       "    .dataframe tbody tr th:only-of-type {\n",
       "        vertical-align: middle;\n",
       "    }\n",
       "\n",
       "    .dataframe tbody tr th {\n",
       "        vertical-align: top;\n",
       "    }\n",
       "\n",
       "    .dataframe thead th {\n",
       "        text-align: right;\n",
       "    }\n",
       "</style>\n",
       "<table border=\"1\" class=\"dataframe\">\n",
       "  <thead>\n",
       "    <tr style=\"text-align: right;\">\n",
       "      <th></th>\n",
       "      <th>CID</th>\n",
       "      <th>TID</th>\n",
       "      <th>Gender</th>\n",
       "      <th>Age Group</th>\n",
       "      <th>Purchase Date</th>\n",
       "      <th>Product Category</th>\n",
       "      <th>Discount Availed</th>\n",
       "      <th>Discount Name</th>\n",
       "      <th>Discount Amount (INR)</th>\n",
       "      <th>Gross Amount</th>\n",
       "      <th>Net Amount</th>\n",
       "      <th>Purchase Method</th>\n",
       "      <th>Location</th>\n",
       "    </tr>\n",
       "  </thead>\n",
       "  <tbody>\n",
       "    <tr>\n",
       "      <th>0</th>\n",
       "      <td>943146</td>\n",
       "      <td>5876328741</td>\n",
       "      <td>Female</td>\n",
       "      <td>25-45</td>\n",
       "      <td>30/08/2023 20:27:08</td>\n",
       "      <td>Electronics</td>\n",
       "      <td>Yes</td>\n",
       "      <td>FESTIVE50</td>\n",
       "      <td>64.30</td>\n",
       "      <td>725.304000</td>\n",
       "      <td>661.004000</td>\n",
       "      <td>Credit Card</td>\n",
       "      <td>Ahmedabad</td>\n",
       "    </tr>\n",
       "    <tr>\n",
       "      <th>1</th>\n",
       "      <td>180079</td>\n",
       "      <td>1018503182</td>\n",
       "      <td>Male</td>\n",
       "      <td>25-45</td>\n",
       "      <td>23/02/2024 09:33:46</td>\n",
       "      <td>Electronics</td>\n",
       "      <td>Yes</td>\n",
       "      <td>SEASONALOFFER21</td>\n",
       "      <td>175.19</td>\n",
       "      <td>4638.991875</td>\n",
       "      <td>4463.801875</td>\n",
       "      <td>Credit Card</td>\n",
       "      <td>Bangalore</td>\n",
       "    </tr>\n",
       "    <tr>\n",
       "      <th>2</th>\n",
       "      <td>337580</td>\n",
       "      <td>3814082218</td>\n",
       "      <td>Other</td>\n",
       "      <td>60 and above</td>\n",
       "      <td>06/03/2022 09:09:50</td>\n",
       "      <td>Clothing</td>\n",
       "      <td>Yes</td>\n",
       "      <td>SEASONALOFFER21</td>\n",
       "      <td>211.54</td>\n",
       "      <td>1986.372575</td>\n",
       "      <td>1774.832575</td>\n",
       "      <td>Credit Card</td>\n",
       "      <td>Delhi</td>\n",
       "    </tr>\n",
       "  </tbody>\n",
       "</table>\n",
       "</div>"
      ],
      "text/plain": [
       "      CID         TID  Gender     Age Group        Purchase Date  \\\n",
       "0  943146  5876328741  Female         25-45  30/08/2023 20:27:08   \n",
       "1  180079  1018503182    Male         25-45  23/02/2024 09:33:46   \n",
       "2  337580  3814082218   Other  60 and above  06/03/2022 09:09:50   \n",
       "\n",
       "  Product Category Discount Availed    Discount Name  Discount Amount (INR)  \\\n",
       "0      Electronics              Yes        FESTIVE50                  64.30   \n",
       "1      Electronics              Yes  SEASONALOFFER21                 175.19   \n",
       "2         Clothing              Yes  SEASONALOFFER21                 211.54   \n",
       "\n",
       "   Gross Amount   Net Amount Purchase Method   Location  \n",
       "0    725.304000   661.004000     Credit Card  Ahmedabad  \n",
       "1   4638.991875  4463.801875     Credit Card  Bangalore  \n",
       "2   1986.372575  1774.832575     Credit Card      Delhi  "
      ]
     },
     "execution_count": 20,
     "metadata": {},
     "output_type": "execute_result"
    }
   ],
   "source": [
    "df.head(3)"
   ]
  },
  {
   "cell_type": "code",
   "execution_count": 22,
   "id": "ca5aabc1-4de8-4683-9a11-36aa6ac99b8f",
   "metadata": {},
   "outputs": [
    {
     "data": {
      "text/html": [
       "<div>\n",
       "<style scoped>\n",
       "    .dataframe tbody tr th:only-of-type {\n",
       "        vertical-align: middle;\n",
       "    }\n",
       "\n",
       "    .dataframe tbody tr th {\n",
       "        vertical-align: top;\n",
       "    }\n",
       "\n",
       "    .dataframe thead th {\n",
       "        text-align: right;\n",
       "    }\n",
       "</style>\n",
       "<table border=\"1\" class=\"dataframe\">\n",
       "  <thead>\n",
       "    <tr style=\"text-align: right;\">\n",
       "      <th></th>\n",
       "      <th>CID</th>\n",
       "      <th>TID</th>\n",
       "      <th>Gender</th>\n",
       "      <th>Age Group</th>\n",
       "      <th>Purchase Date</th>\n",
       "      <th>Product Category</th>\n",
       "      <th>Discount Availed</th>\n",
       "      <th>Discount Name</th>\n",
       "      <th>Discount Amount (INR)</th>\n",
       "      <th>Gross Amount</th>\n",
       "      <th>Net Amount</th>\n",
       "      <th>Purchase Method</th>\n",
       "      <th>Location</th>\n",
       "    </tr>\n",
       "  </thead>\n",
       "  <tbody>\n",
       "    <tr>\n",
       "      <th>54997</th>\n",
       "      <td>649435</td>\n",
       "      <td>9587323189</td>\n",
       "      <td>Male</td>\n",
       "      <td>45-60</td>\n",
       "      <td>02/08/2024 09:30:44</td>\n",
       "      <td>Home &amp; Kitchen</td>\n",
       "      <td>Yes</td>\n",
       "      <td>NEWYEARS</td>\n",
       "      <td>417.63</td>\n",
       "      <td>4094.6875</td>\n",
       "      <td>3677.0575</td>\n",
       "      <td>Credit Card</td>\n",
       "      <td>Mumbai</td>\n",
       "    </tr>\n",
       "    <tr>\n",
       "      <th>54998</th>\n",
       "      <td>982183</td>\n",
       "      <td>5032564481</td>\n",
       "      <td>Female</td>\n",
       "      <td>45-60</td>\n",
       "      <td>05/08/2020 23:57:56</td>\n",
       "      <td>Beauty and Health</td>\n",
       "      <td>Yes</td>\n",
       "      <td>SEASONALOFFER21</td>\n",
       "      <td>204.56</td>\n",
       "      <td>3977.4735</td>\n",
       "      <td>3772.9135</td>\n",
       "      <td>Credit Card</td>\n",
       "      <td>Kolkata</td>\n",
       "    </tr>\n",
       "    <tr>\n",
       "      <th>54999</th>\n",
       "      <td>126691</td>\n",
       "      <td>9172953722</td>\n",
       "      <td>Male</td>\n",
       "      <td>25-45</td>\n",
       "      <td>21/07/2022 09:05:18</td>\n",
       "      <td>Beauty and Health</td>\n",
       "      <td>Yes</td>\n",
       "      <td>NEWYEARS</td>\n",
       "      <td>380.81</td>\n",
       "      <td>3703.5819</td>\n",
       "      <td>3322.7719</td>\n",
       "      <td>Credit Card</td>\n",
       "      <td>Mumbai</td>\n",
       "    </tr>\n",
       "  </tbody>\n",
       "</table>\n",
       "</div>"
      ],
      "text/plain": [
       "          CID         TID  Gender Age Group        Purchase Date  \\\n",
       "54997  649435  9587323189    Male     45-60  02/08/2024 09:30:44   \n",
       "54998  982183  5032564481  Female     45-60  05/08/2020 23:57:56   \n",
       "54999  126691  9172953722    Male     25-45  21/07/2022 09:05:18   \n",
       "\n",
       "        Product Category Discount Availed    Discount Name  \\\n",
       "54997     Home & Kitchen              Yes         NEWYEARS   \n",
       "54998  Beauty and Health              Yes  SEASONALOFFER21   \n",
       "54999  Beauty and Health              Yes         NEWYEARS   \n",
       "\n",
       "       Discount Amount (INR)  Gross Amount  Net Amount Purchase Method  \\\n",
       "54997                 417.63     4094.6875   3677.0575     Credit Card   \n",
       "54998                 204.56     3977.4735   3772.9135     Credit Card   \n",
       "54999                 380.81     3703.5819   3322.7719     Credit Card   \n",
       "\n",
       "      Location  \n",
       "54997   Mumbai  \n",
       "54998  Kolkata  \n",
       "54999   Mumbai  "
      ]
     },
     "execution_count": 22,
     "metadata": {},
     "output_type": "execute_result"
    }
   ],
   "source": [
    "df.tail(3)"
   ]
  },
  {
   "cell_type": "markdown",
   "id": "e918a864-be49-4ed3-8319-9c28d3d602e7",
   "metadata": {},
   "source": [
    "### Data Cleaning and Transformation"
   ]
  },
  {
   "cell_type": "markdown",
   "id": "3d241bf6-9f72-49f3-8df6-b7952499e34d",
   "metadata": {},
   "source": [
    "First, I check if there are any missing values in the dataset to ensure there are no nulls that would affect the analysis:"
   ]
  },
  {
   "cell_type": "code",
   "execution_count": 26,
   "id": "41e04eb1-4867-46b6-8c23-0c9945147156",
   "metadata": {},
   "outputs": [
    {
     "data": {
      "text/plain": [
       "CID                          0\n",
       "TID                          0\n",
       "Gender                       0\n",
       "Age Group                    0\n",
       "Purchase Date                0\n",
       "Product Category             0\n",
       "Discount Availed             0\n",
       "Discount Name            27585\n",
       "Discount Amount (INR)        0\n",
       "Gross Amount                 0\n",
       "Net Amount                   0\n",
       "Purchase Method              0\n",
       "Location                     0\n",
       "dtype: int64"
      ]
     },
     "execution_count": 26,
     "metadata": {},
     "output_type": "execute_result"
    }
   ],
   "source": [
    "df.isnull().sum() "
   ]
  },
  {
   "cell_type": "markdown",
   "id": "baa1b6f6-7ff2-42a7-9a6f-f26b6abf3d39",
   "metadata": {},
   "source": [
    "Before filling any missing values, I review the unique values in the `Discount Name` column to understand its content:"
   ]
  },
  {
   "cell_type": "code",
   "execution_count": 29,
   "id": "c39a240c-ffe3-43d2-b270-9bd399f656bf",
   "metadata": {},
   "outputs": [
    {
     "data": {
      "text/plain": [
       "array(['FESTIVE50', 'SEASONALOFFER21', nan, 'WELCOME5', 'SAVE10',\n",
       "       'NEWYEARS'], dtype=object)"
      ]
     },
     "execution_count": 29,
     "metadata": {},
     "output_type": "execute_result"
    }
   ],
   "source": [
    "df['Discount Name'].unique()"
   ]
  },
  {
   "cell_type": "markdown",
   "id": "62faba01-85ec-468c-b12a-04d878f13a6e",
   "metadata": {},
   "source": [
    "After reviewing the unique values, I fill any missing values in the `Discount Name` column with \"No Discount\" to ensure there are no nulls affecting the discount-related analysis:"
   ]
  },
  {
   "cell_type": "code",
   "execution_count": 32,
   "id": "f1ffb63c-f73e-4e3e-96b2-e4c62400af83",
   "metadata": {},
   "outputs": [],
   "source": [
    "df['Discount Name'] = df['Discount Name'].fillna('No Discount')"
   ]
  },
  {
   "cell_type": "markdown",
   "id": "79b0a83f-8f2d-4cb1-b89b-e9139feb9a48",
   "metadata": {},
   "source": [
    "After filling the missing values in the `Discount Name` column, I check for any remaining missing values in the entire dataset to ensure the data is complete:"
   ]
  },
  {
   "cell_type": "code",
   "execution_count": 35,
   "id": "0b5269ec-55df-4bc1-bd61-8b9fd201e39c",
   "metadata": {},
   "outputs": [
    {
     "data": {
      "text/plain": [
       "CID                      0\n",
       "TID                      0\n",
       "Gender                   0\n",
       "Age Group                0\n",
       "Purchase Date            0\n",
       "Product Category         0\n",
       "Discount Availed         0\n",
       "Discount Name            0\n",
       "Discount Amount (INR)    0\n",
       "Gross Amount             0\n",
       "Net Amount               0\n",
       "Purchase Method          0\n",
       "Location                 0\n",
       "dtype: int64"
      ]
     },
     "execution_count": 35,
     "metadata": {},
     "output_type": "execute_result"
    }
   ],
   "source": [
    "df.isnull().sum()"
   ]
  },
  {
   "cell_type": "markdown",
   "id": "f7ae87e5-2d60-424f-ad2b-61510eb3549f",
   "metadata": {},
   "source": [
    "Next, I check for duplicate rows in the dataset, as duplicates can affect the accuracy of the analysis:"
   ]
  },
  {
   "cell_type": "code",
   "execution_count": 38,
   "id": "b96a1f82-bf04-4244-826a-d98448140bed",
   "metadata": {},
   "outputs": [
    {
     "data": {
      "text/html": [
       "<div>\n",
       "<style scoped>\n",
       "    .dataframe tbody tr th:only-of-type {\n",
       "        vertical-align: middle;\n",
       "    }\n",
       "\n",
       "    .dataframe tbody tr th {\n",
       "        vertical-align: top;\n",
       "    }\n",
       "\n",
       "    .dataframe thead th {\n",
       "        text-align: right;\n",
       "    }\n",
       "</style>\n",
       "<table border=\"1\" class=\"dataframe\">\n",
       "  <thead>\n",
       "    <tr style=\"text-align: right;\">\n",
       "      <th></th>\n",
       "      <th>CID</th>\n",
       "      <th>TID</th>\n",
       "      <th>Gender</th>\n",
       "      <th>Age Group</th>\n",
       "      <th>Purchase Date</th>\n",
       "      <th>Product Category</th>\n",
       "      <th>Discount Availed</th>\n",
       "      <th>Discount Name</th>\n",
       "      <th>Discount Amount (INR)</th>\n",
       "      <th>Gross Amount</th>\n",
       "      <th>Net Amount</th>\n",
       "      <th>Purchase Method</th>\n",
       "      <th>Location</th>\n",
       "    </tr>\n",
       "  </thead>\n",
       "  <tbody>\n",
       "  </tbody>\n",
       "</table>\n",
       "</div>"
      ],
      "text/plain": [
       "Empty DataFrame\n",
       "Columns: [CID, TID, Gender, Age Group, Purchase Date, Product Category, Discount Availed, Discount Name, Discount Amount (INR), Gross Amount, Net Amount, Purchase Method, Location]\n",
       "Index: []"
      ]
     },
     "execution_count": 38,
     "metadata": {},
     "output_type": "execute_result"
    }
   ],
   "source": [
    "df[df.duplicated()]"
   ]
  },
  {
   "cell_type": "markdown",
   "id": "cd1dce60-9ddc-41b8-b971-f875f3f84522",
   "metadata": {},
   "source": [
    "I rename columns for better clarity and consistency:"
   ]
  },
  {
   "cell_type": "code",
   "execution_count": 41,
   "id": "325f1c31-aa01-4338-af30-829f277f4d80",
   "metadata": {},
   "outputs": [],
   "source": [
    "df.rename(columns={'CID': 'Customer ID', 'TID': 'Transaction ID'}, inplace=True)"
   ]
  },
  {
   "cell_type": "markdown",
   "id": "e7d14078-2e4a-41cd-87d2-27362239738f",
   "metadata": {},
   "source": [
    "After renaming the columns, I check the dataset structure again using `df.info()` to verify that the column names have been updated correctly before proceeding with further data type transformations:"
   ]
  },
  {
   "cell_type": "code",
   "execution_count": 44,
   "id": "8c59be6b-930b-4013-b5aa-55da3ab6cfa6",
   "metadata": {},
   "outputs": [
    {
     "name": "stdout",
     "output_type": "stream",
     "text": [
      "<class 'pandas.core.frame.DataFrame'>\n",
      "RangeIndex: 55000 entries, 0 to 54999\n",
      "Data columns (total 13 columns):\n",
      " #   Column                 Non-Null Count  Dtype  \n",
      "---  ------                 --------------  -----  \n",
      " 0   Customer ID            55000 non-null  int64  \n",
      " 1   Transaction ID         55000 non-null  int64  \n",
      " 2   Gender                 55000 non-null  object \n",
      " 3   Age Group              55000 non-null  object \n",
      " 4   Purchase Date          55000 non-null  object \n",
      " 5   Product Category       55000 non-null  object \n",
      " 6   Discount Availed       55000 non-null  object \n",
      " 7   Discount Name          55000 non-null  object \n",
      " 8   Discount Amount (INR)  55000 non-null  float64\n",
      " 9   Gross Amount           55000 non-null  float64\n",
      " 10  Net Amount             55000 non-null  float64\n",
      " 11  Purchase Method        55000 non-null  object \n",
      " 12  Location               55000 non-null  object \n",
      "dtypes: float64(3), int64(2), object(8)\n",
      "memory usage: 5.5+ MB\n"
     ]
    }
   ],
   "source": [
    "df.info()"
   ]
  },
  {
   "cell_type": "markdown",
   "id": "df1a2b3b-5d4e-4c2c-ad50-c5b116b945f5",
   "metadata": {},
   "source": [
    "I convert the `Purchase Date` column to the `datetime` data type to ensure proper handling of date-related operations:"
   ]
  },
  {
   "cell_type": "code",
   "execution_count": 47,
   "id": "11a43566-60d2-4d69-ba72-22527548fb00",
   "metadata": {},
   "outputs": [],
   "source": [
    "df['Purchase Date'] = pd.to_datetime(df['Purchase Date'], dayfirst=True)"
   ]
  },
  {
   "cell_type": "markdown",
   "id": "17fb324f-e9b8-46c3-94e8-b9fa9dabee66",
   "metadata": {},
   "source": [
    "Check the data type of `Purchase Date` and preview the first few rows:"
   ]
  },
  {
   "cell_type": "code",
   "execution_count": 49,
   "id": "16cf7768-4a13-4811-bda0-29e2b0bb37f9",
   "metadata": {},
   "outputs": [
    {
     "data": {
      "text/plain": [
       "0   2023-08-30 20:27:08\n",
       "1   2024-02-23 09:33:46\n",
       "2   2022-03-06 09:09:50\n",
       "Name: Purchase Date, dtype: datetime64[ns]"
      ]
     },
     "execution_count": 49,
     "metadata": {},
     "output_type": "execute_result"
    }
   ],
   "source": [
    "df['Purchase Date'].head(3)"
   ]
  },
  {
   "cell_type": "markdown",
   "id": "308d34f8-b5e7-428c-870f-1082bff5d54f",
   "metadata": {},
   "source": [
    "I extract the month name from the `Purchase Date` column to make these components easily accessible for analysis:"
   ]
  },
  {
   "cell_type": "code",
   "execution_count": 53,
   "id": "ecf56996-1f4d-4bde-9d7a-a4d257c43872",
   "metadata": {},
   "outputs": [],
   "source": [
    "df['Purchase Month Name'] = df['Purchase Date'].dt.month_name()"
   ]
  },
  {
   "cell_type": "markdown",
   "id": "96c1a383-ea48-4fb3-8949-21f8c94f849e",
   "metadata": {},
   "source": [
    "Check the first few rows to confirm date components are correctly extracted:"
   ]
  },
  {
   "cell_type": "code",
   "execution_count": 56,
   "id": "737fde79-512c-4976-836c-e823015b237b",
   "metadata": {},
   "outputs": [
    {
     "data": {
      "text/html": [
       "<div>\n",
       "<style scoped>\n",
       "    .dataframe tbody tr th:only-of-type {\n",
       "        vertical-align: middle;\n",
       "    }\n",
       "\n",
       "    .dataframe tbody tr th {\n",
       "        vertical-align: top;\n",
       "    }\n",
       "\n",
       "    .dataframe thead th {\n",
       "        text-align: right;\n",
       "    }\n",
       "</style>\n",
       "<table border=\"1\" class=\"dataframe\">\n",
       "  <thead>\n",
       "    <tr style=\"text-align: right;\">\n",
       "      <th></th>\n",
       "      <th>Purchase Month Name</th>\n",
       "    </tr>\n",
       "  </thead>\n",
       "  <tbody>\n",
       "    <tr>\n",
       "      <th>0</th>\n",
       "      <td>August</td>\n",
       "    </tr>\n",
       "    <tr>\n",
       "      <th>1</th>\n",
       "      <td>February</td>\n",
       "    </tr>\n",
       "    <tr>\n",
       "      <th>2</th>\n",
       "      <td>March</td>\n",
       "    </tr>\n",
       "  </tbody>\n",
       "</table>\n",
       "</div>"
      ],
      "text/plain": [
       "  Purchase Month Name\n",
       "0              August\n",
       "1            February\n",
       "2               March"
      ]
     },
     "execution_count": 56,
     "metadata": {},
     "output_type": "execute_result"
    }
   ],
   "source": [
    "df[['Purchase Month Name']].head(3)"
   ]
  },
  {
   "cell_type": "markdown",
   "id": "92617ea0-7a04-4868-af70-f60bca739e74",
   "metadata": {},
   "source": [
    "Before changing the data types, I check the current data types of all columns using `df.dtypes` to understand the existing structure and ensure that the necessary columns are in the correct format before performing any transformations:"
   ]
  },
  {
   "cell_type": "code",
   "execution_count": 59,
   "id": "59369752-d662-4f6b-b769-495f625e938d",
   "metadata": {},
   "outputs": [
    {
     "data": {
      "text/plain": [
       "Customer ID                       int64\n",
       "Transaction ID                    int64\n",
       "Gender                           object\n",
       "Age Group                        object\n",
       "Purchase Date            datetime64[ns]\n",
       "Product Category                 object\n",
       "Discount Availed                 object\n",
       "Discount Name                    object\n",
       "Discount Amount (INR)           float64\n",
       "Gross Amount                    float64\n",
       "Net Amount                      float64\n",
       "Purchase Method                  object\n",
       "Location                         object\n",
       "Purchase Month Name              object\n",
       "dtype: object"
      ]
     },
     "execution_count": 59,
     "metadata": {},
     "output_type": "execute_result"
    }
   ],
   "source": [
    "df.dtypes"
   ]
  },
  {
   "cell_type": "markdown",
   "id": "ec31c0a1-7f29-472a-90ad-1b10085e4856",
   "metadata": {},
   "source": [
    "I convert columns such as `Gender`, `Age Group`, `Product Category`, and others to the `category` data type. This optimizes memory usage and improves performance."
   ]
  },
  {
   "cell_type": "code",
   "execution_count": 62,
   "id": "14d09497-d2cf-4c44-b497-a69660ca4f9a",
   "metadata": {},
   "outputs": [],
   "source": [
    "changed_type_columns = [\n",
    "    'Gender', 'Age Group', 'Product Category', 'Discount Availed', \n",
    "    'Discount Name', 'Purchase Method', 'Location', 'Purchase Month Name'\n",
    "]\n",
    "\n",
    "df[changed_type_columns] = df[changed_type_columns].astype('category')"
   ]
  },
  {
   "cell_type": "markdown",
   "id": "911ad620-0d13-4d79-a981-4a27c99d5d3b",
   "metadata": {},
   "source": [
    "After converting the specified columns to the `category` data type, I check the dataset again using `df.info()` to confirm that the transformations have been applied correctly. This will provide an overview of the updated data types and help ensure that the changes were successful."
   ]
  },
  {
   "cell_type": "code",
   "execution_count": 65,
   "id": "90029872-cd61-4299-9654-3095866d3dd6",
   "metadata": {},
   "outputs": [
    {
     "name": "stdout",
     "output_type": "stream",
     "text": [
      "<class 'pandas.core.frame.DataFrame'>\n",
      "RangeIndex: 55000 entries, 0 to 54999\n",
      "Data columns (total 14 columns):\n",
      " #   Column                 Non-Null Count  Dtype         \n",
      "---  ------                 --------------  -----         \n",
      " 0   Customer ID            55000 non-null  int64         \n",
      " 1   Transaction ID         55000 non-null  int64         \n",
      " 2   Gender                 55000 non-null  category      \n",
      " 3   Age Group              55000 non-null  category      \n",
      " 4   Purchase Date          55000 non-null  datetime64[ns]\n",
      " 5   Product Category       55000 non-null  category      \n",
      " 6   Discount Availed       55000 non-null  category      \n",
      " 7   Discount Name          55000 non-null  category      \n",
      " 8   Discount Amount (INR)  55000 non-null  float64       \n",
      " 9   Gross Amount           55000 non-null  float64       \n",
      " 10  Net Amount             55000 non-null  float64       \n",
      " 11  Purchase Method        55000 non-null  category      \n",
      " 12  Location               55000 non-null  category      \n",
      " 13  Purchase Month Name    55000 non-null  category      \n",
      "dtypes: category(8), datetime64[ns](1), float64(3), int64(2)\n",
      "memory usage: 2.9 MB\n"
     ]
    }
   ],
   "source": [
    "df.info()"
   ]
  },
  {
   "cell_type": "markdown",
   "id": "8653c5e9-4d45-4407-a66c-c4cbad3fbbcf",
   "metadata": {},
   "source": [
    "During the Data Cleaning and Transformation phase, I optimized memory usage by transforming data types and adding new columns. As a result, the dataset's memory usage decreased from 25.70 MB to 2.9 MB."
   ]
  },
  {
   "cell_type": "markdown",
   "id": "44db88f3-ddd4-4e85-bc8d-63a572f172a1",
   "metadata": {},
   "source": [
    "## Data Validation and Download for Analysis"
   ]
  },
  {
   "cell_type": "markdown",
   "id": "64902da5-d9df-4c02-a7a4-71f15cc0a987",
   "metadata": {},
   "source": [
    "To begin this section, I use the `describe()` function to get an overview of the numerical columns in the dataset. This helps me understand the distribution of values for `Discount Amount (INR)`, `Gross Amount`, and `Net Amount`, and check for any potential issues, such as negative values or discrepancies. To ensure clarity and precision, I set the display option to show 3 decimal places when displaying the summary statistics:"
   ]
  },
  {
   "cell_type": "code",
   "execution_count": 70,
   "id": "10694770-6112-4ce6-9dee-7c334fb4e3ed",
   "metadata": {},
   "outputs": [
    {
     "data": {
      "text/html": [
       "<div>\n",
       "<style scoped>\n",
       "    .dataframe tbody tr th:only-of-type {\n",
       "        vertical-align: middle;\n",
       "    }\n",
       "\n",
       "    .dataframe tbody tr th {\n",
       "        vertical-align: top;\n",
       "    }\n",
       "\n",
       "    .dataframe thead th {\n",
       "        text-align: right;\n",
       "    }\n",
       "</style>\n",
       "<table border=\"1\" class=\"dataframe\">\n",
       "  <thead>\n",
       "    <tr style=\"text-align: right;\">\n",
       "      <th></th>\n",
       "      <th>Discount Amount (INR)</th>\n",
       "      <th>Gross Amount</th>\n",
       "      <th>Net Amount</th>\n",
       "    </tr>\n",
       "  </thead>\n",
       "  <tbody>\n",
       "    <tr>\n",
       "      <th>count</th>\n",
       "      <td>55000.000</td>\n",
       "      <td>55000.000</td>\n",
       "      <td>55000.000</td>\n",
       "    </tr>\n",
       "    <tr>\n",
       "      <th>mean</th>\n",
       "      <td>136.987</td>\n",
       "      <td>3012.937</td>\n",
       "      <td>2875.950</td>\n",
       "    </tr>\n",
       "    <tr>\n",
       "      <th>std</th>\n",
       "      <td>165.376</td>\n",
       "      <td>1718.431</td>\n",
       "      <td>1726.128</td>\n",
       "    </tr>\n",
       "    <tr>\n",
       "      <th>min</th>\n",
       "      <td>0.000</td>\n",
       "      <td>136.454</td>\n",
       "      <td>-351.120</td>\n",
       "    </tr>\n",
       "    <tr>\n",
       "      <th>25%</th>\n",
       "      <td>0.000</td>\n",
       "      <td>1562.111</td>\n",
       "      <td>1429.552</td>\n",
       "    </tr>\n",
       "    <tr>\n",
       "      <th>50%</th>\n",
       "      <td>0.000</td>\n",
       "      <td>2954.266</td>\n",
       "      <td>2814.911</td>\n",
       "    </tr>\n",
       "    <tr>\n",
       "      <th>75%</th>\n",
       "      <td>274.115</td>\n",
       "      <td>4342.222</td>\n",
       "      <td>4211.408</td>\n",
       "    </tr>\n",
       "    <tr>\n",
       "      <th>max</th>\n",
       "      <td>500.000</td>\n",
       "      <td>8394.826</td>\n",
       "      <td>8394.826</td>\n",
       "    </tr>\n",
       "  </tbody>\n",
       "</table>\n",
       "</div>"
      ],
      "text/plain": [
       "       Discount Amount (INR)  Gross Amount  Net Amount\n",
       "count              55000.000     55000.000   55000.000\n",
       "mean                 136.987      3012.937    2875.950\n",
       "std                  165.376      1718.431    1726.128\n",
       "min                    0.000       136.454    -351.120\n",
       "25%                    0.000      1562.111    1429.552\n",
       "50%                    0.000      2954.266    2814.911\n",
       "75%                  274.115      4342.222    4211.408\n",
       "max                  500.000      8394.826    8394.826"
      ]
     },
     "metadata": {},
     "output_type": "display_data"
    }
   ],
   "source": [
    "def describe_columns(dataframe, columns):\n",
    "    result = dataframe[columns].describe()\n",
    "    return result.round(3)\n",
    "\n",
    "columns_to_describe = ['Discount Amount (INR)', 'Gross Amount', 'Net Amount']\n",
    "result = describe_columns(df, columns_to_describe)\n",
    "display(result)"
   ]
  },
  {
   "cell_type": "markdown",
   "id": "0752119c-d77c-4368-a045-1b02aa90da95",
   "metadata": {},
   "source": [
    "After reviewing the descriptive statistics, I notice that there are negative values in the `Net Amount` column. Therefore, I will check for any such negative values in the `Discount Amount (INR)`, `Gross Amount`, and `Net Amount` columns to identify and address any potential issues:"
   ]
  },
  {
   "cell_type": "code",
   "execution_count": 73,
   "id": "b98f5b0a-3901-4440-b00c-5adc45c3a25a",
   "metadata": {},
   "outputs": [
    {
     "data": {
      "text/plain": [
       "Discount Amount (INR)      0\n",
       "Gross Amount               0\n",
       "Net Amount               613\n",
       "dtype: int64"
      ]
     },
     "execution_count": 73,
     "metadata": {},
     "output_type": "execute_result"
    }
   ],
   "source": [
    "df[['Discount Amount (INR)', 'Gross Amount', 'Net Amount']].lt(0).sum()"
   ]
  },
  {
   "cell_type": "markdown",
   "id": "2f4b16e9-43f4-4477-96bb-fc7f72ce6bea",
   "metadata": {},
   "source": [
    "I noticed that there are 613 negative values in the `Net Amount` column. To ensure data integrity and avoid potential errors in the analysis, I will remove these rows with negative `Net Amount` values. This will help ensure that only valid data is used in the analysis."
   ]
  },
  {
   "cell_type": "code",
   "execution_count": 76,
   "id": "d14627f4-442f-4fce-9f75-b2de35b19616",
   "metadata": {},
   "outputs": [],
   "source": [
    "df_cleaned = df[df['Net Amount'] >= 0].copy()"
   ]
  },
  {
   "cell_type": "markdown",
   "id": "0d0edfb2-1d2e-4e12-9353-3bf222234997",
   "metadata": {},
   "source": [
    "After cleaning the data by removing rows with negative values in the `Net Amount` column, I will check the summary statistics of the cleaned dataset using:"
   ]
  },
  {
   "cell_type": "code",
   "execution_count": 79,
   "id": "2a8c8cee-4cb3-49da-be90-7e9456869af2",
   "metadata": {},
   "outputs": [
    {
     "data": {
      "text/html": [
       "<div>\n",
       "<style scoped>\n",
       "    .dataframe tbody tr th:only-of-type {\n",
       "        vertical-align: middle;\n",
       "    }\n",
       "\n",
       "    .dataframe tbody tr th {\n",
       "        vertical-align: top;\n",
       "    }\n",
       "\n",
       "    .dataframe thead th {\n",
       "        text-align: right;\n",
       "    }\n",
       "</style>\n",
       "<table border=\"1\" class=\"dataframe\">\n",
       "  <thead>\n",
       "    <tr style=\"text-align: right;\">\n",
       "      <th></th>\n",
       "      <th>Discount Amount (INR)</th>\n",
       "      <th>Gross Amount</th>\n",
       "      <th>Net Amount</th>\n",
       "    </tr>\n",
       "  </thead>\n",
       "  <tbody>\n",
       "    <tr>\n",
       "      <th>count</th>\n",
       "      <td>54387.000</td>\n",
       "      <td>54387.000</td>\n",
       "      <td>54387.000</td>\n",
       "    </tr>\n",
       "    <tr>\n",
       "      <th>mean</th>\n",
       "      <td>134.189</td>\n",
       "      <td>3043.793</td>\n",
       "      <td>2909.604</td>\n",
       "    </tr>\n",
       "    <tr>\n",
       "      <th>std</th>\n",
       "      <td>163.961</td>\n",
       "      <td>1703.171</td>\n",
       "      <td>1706.287</td>\n",
       "    </tr>\n",
       "    <tr>\n",
       "      <th>min</th>\n",
       "      <td>0.000</td>\n",
       "      <td>136.454</td>\n",
       "      <td>0.630</td>\n",
       "    </tr>\n",
       "    <tr>\n",
       "      <th>25%</th>\n",
       "      <td>0.000</td>\n",
       "      <td>1610.986</td>\n",
       "      <td>1471.609</td>\n",
       "    </tr>\n",
       "    <tr>\n",
       "      <th>50%</th>\n",
       "      <td>0.000</td>\n",
       "      <td>2983.550</td>\n",
       "      <td>2843.780</td>\n",
       "    </tr>\n",
       "    <tr>\n",
       "      <th>75%</th>\n",
       "      <td>267.360</td>\n",
       "      <td>4356.490</td>\n",
       "      <td>4228.056</td>\n",
       "    </tr>\n",
       "    <tr>\n",
       "      <th>max</th>\n",
       "      <td>500.000</td>\n",
       "      <td>8394.826</td>\n",
       "      <td>8394.826</td>\n",
       "    </tr>\n",
       "  </tbody>\n",
       "</table>\n",
       "</div>"
      ],
      "text/plain": [
       "       Discount Amount (INR)  Gross Amount  Net Amount\n",
       "count              54387.000     54387.000   54387.000\n",
       "mean                 134.189      3043.793    2909.604\n",
       "std                  163.961      1703.171    1706.287\n",
       "min                    0.000       136.454       0.630\n",
       "25%                    0.000      1610.986    1471.609\n",
       "50%                    0.000      2983.550    2843.780\n",
       "75%                  267.360      4356.490    4228.056\n",
       "max                  500.000      8394.826    8394.826"
      ]
     },
     "metadata": {},
     "output_type": "display_data"
    }
   ],
   "source": [
    "result_cleaned = describe_columns(df_cleaned, columns_to_describe)\n",
    "display(result_cleaned)"
   ]
  },
  {
   "cell_type": "markdown",
   "id": "a039f560-f710-4763-8b3e-4b26f64ee478",
   "metadata": {},
   "source": [
    "I checked the data after cleaning to make sure there were no missing values or errors, and that each column had the correct data type before saving it:"
   ]
  },
  {
   "cell_type": "code",
   "execution_count": 82,
   "id": "68be14a9-8a1f-4d11-a96b-2b86f8680aa1",
   "metadata": {},
   "outputs": [
    {
     "name": "stdout",
     "output_type": "stream",
     "text": [
      "Customer ID                       int64\n",
      "Transaction ID                    int64\n",
      "Gender                         category\n",
      "Age Group                      category\n",
      "Purchase Date            datetime64[ns]\n",
      "Product Category               category\n",
      "Discount Availed               category\n",
      "Discount Name                  category\n",
      "Discount Amount (INR)           float64\n",
      "Gross Amount                    float64\n",
      "Net Amount                      float64\n",
      "Purchase Method                category\n",
      "Location                       category\n",
      "Purchase Month Name            category\n",
      "dtype: object\n"
     ]
    }
   ],
   "source": [
    "print(df_cleaned.dtypes)"
   ]
  },
  {
   "cell_type": "markdown",
   "id": "5a9dd1da-cbe7-422b-b738-cade23a2a084",
   "metadata": {},
   "source": [
    "Check if there are any commas in the text columns:"
   ]
  },
  {
   "cell_type": "code",
   "execution_count": 85,
   "id": "027a6469-2094-4367-93c2-8e76d171898e",
   "metadata": {},
   "outputs": [],
   "source": [
    "text_cols = df_cleaned.select_dtypes(include=['object', 'category']).columns\n",
    "for col in text_cols:\n",
    "    comma_count = df_cleaned[col].str.contains(',', na=False).sum()\n",
    "    if comma_count > 0:\n",
    "        print(f\"Столбец {col} содержит {comma_count} строк с запятыми\")"
   ]
  },
  {
   "cell_type": "markdown",
   "id": "3d177151-fa78-4922-93e3-1fbd0c74b00b",
   "metadata": {},
   "source": [
    "I checked for missing valuesin the `df_cleaned` DataFrame:"
   ]
  },
  {
   "cell_type": "code",
   "execution_count": 88,
   "id": "6e68d318-5148-4de1-ad1c-7df8fc4499ff",
   "metadata": {},
   "outputs": [
    {
     "name": "stdout",
     "output_type": "stream",
     "text": [
      "Customer ID              0\n",
      "Transaction ID           0\n",
      "Gender                   0\n",
      "Age Group                0\n",
      "Purchase Date            0\n",
      "Product Category         0\n",
      "Discount Availed         0\n",
      "Discount Name            0\n",
      "Discount Amount (INR)    0\n",
      "Gross Amount             0\n",
      "Net Amount               0\n",
      "Purchase Method          0\n",
      "Location                 0\n",
      "Purchase Month Name      0\n",
      "dtype: int64\n"
     ]
    }
   ],
   "source": [
    "print(df_cleaned.isna().sum())"
   ]
  },
  {
   "cell_type": "markdown",
   "id": "b68d8cf4-4e07-47e9-98f8-c25602c99d80",
   "metadata": {},
   "source": [
    "After cleaning and checking the data, I saved the final version to a CSV file. Now it can be downloaded and used for analysis or visualizations:"
   ]
  },
  {
   "cell_type": "code",
   "execution_count": 91,
   "id": "8af03c3a-2e8a-4180-889d-d5b4f2406843",
   "metadata": {},
   "outputs": [],
   "source": [
    "df_cleaned.to_csv(\n",
    "    'cleaned_ecommerce_dataset.csv',\n",
    "    index=False,\n",
    "    sep=';',\n",
    "    encoding='utf-8-sig',\n",
    "    quoting=csv.QUOTE_NONNUMERIC,\n",
    "    lineterminator='\\n'\n",
    ")"
   ]
  },
  {
   "cell_type": "markdown",
   "id": "1ec85233-1ed2-4f41-a878-1ee00159cdef",
   "metadata": {},
   "source": [
    "## Key Questions, Visualizations, and Pivot Tables for Data Analysis"
   ]
  },
  {
   "cell_type": "markdown",
   "id": "3ab86ddc-b75c-4296-8648-e47c10995be8",
   "metadata": {},
   "source": [
    "### 1. Pivot Table Questions and Results"
   ]
  },
  {
   "cell_type": "markdown",
   "id": "361d243b-f47f-43b5-bde9-876e826c547c",
   "metadata": {},
   "source": [
    "#### Goal: Understand what people buy, who buys more, and how discounts work."
   ]
  },
  {
   "cell_type": "markdown",
   "id": "136d6ab1-febf-4ebf-9009-9e681acae256",
   "metadata": {},
   "source": [
    "* **Which product categories generate the most gross income for a specific period (year, quarter)?**"
   ]
  },
  {
   "cell_type": "markdown",
   "id": "eb578033-0b9d-47c2-8a5a-e6f0f2ec05f2",
   "metadata": {},
   "source": [
    "I group the data by `Product Category` and calculate the total `Gross Amount` for each year and quarter derived from `Purchase Date` to better analyze sales trends and identify seasonal fluctuations."
   ]
  },
  {
   "cell_type": "code",
   "execution_count": 97,
   "id": "71e48494-7373-4742-898e-ddca80fbaf22",
   "metadata": {},
   "outputs": [
    {
     "data": {
      "text/html": [
       "<style type=\"text/css\">\n",
       "#T_180a7_row0_col0, #T_180a7_row0_col1, #T_180a7_row0_col2, #T_180a7_row0_col3, #T_180a7_row0_col4, #T_180a7_row0_col5 {\n",
       "  background-color: #023858;\n",
       "  color: #f1f1f1;\n",
       "}\n",
       "#T_180a7_row0_col6 {\n",
       "  background-color: #023858;\n",
       "  color: #f1f1f1;\n",
       "  font-weight: bold;\n",
       "}\n",
       "#T_180a7_row1_col0 {\n",
       "  background-color: #509ac6;\n",
       "  color: #f1f1f1;\n",
       "}\n",
       "#T_180a7_row1_col1 {\n",
       "  background-color: #4295c3;\n",
       "  color: #f1f1f1;\n",
       "}\n",
       "#T_180a7_row1_col2 {\n",
       "  background-color: #2786bb;\n",
       "  color: #f1f1f1;\n",
       "}\n",
       "#T_180a7_row1_col3 {\n",
       "  background-color: #328dbf;\n",
       "  color: #f1f1f1;\n",
       "}\n",
       "#T_180a7_row1_col4 {\n",
       "  background-color: #358fc0;\n",
       "  color: #f1f1f1;\n",
       "}\n",
       "#T_180a7_row1_col5 {\n",
       "  background-color: #3f93c2;\n",
       "  color: #f1f1f1;\n",
       "}\n",
       "#T_180a7_row1_col6 {\n",
       "  background-color: #3790c0;\n",
       "  color: #f1f1f1;\n",
       "  font-weight: bold;\n",
       "}\n",
       "#T_180a7_row2_col0 {\n",
       "  background-color: #89b1d4;\n",
       "  color: #000000;\n",
       "}\n",
       "#T_180a7_row2_col1 {\n",
       "  background-color: #84b0d3;\n",
       "  color: #f1f1f1;\n",
       "}\n",
       "#T_180a7_row2_col2 {\n",
       "  background-color: #78abd0;\n",
       "  color: #f1f1f1;\n",
       "}\n",
       "#T_180a7_row2_col3 {\n",
       "  background-color: #80aed2;\n",
       "  color: #f1f1f1;\n",
       "}\n",
       "#T_180a7_row2_col4 {\n",
       "  background-color: #8eb3d5;\n",
       "  color: #000000;\n",
       "}\n",
       "#T_180a7_row2_col5 {\n",
       "  background-color: #88b1d4;\n",
       "  color: #000000;\n",
       "}\n",
       "#T_180a7_row2_col6 {\n",
       "  background-color: #84b0d3;\n",
       "  color: #f1f1f1;\n",
       "  font-weight: bold;\n",
       "}\n",
       "#T_180a7_row3_col0, #T_180a7_row3_col4, #T_180a7_row4_col2 {\n",
       "  background-color: #cacee5;\n",
       "  color: #000000;\n",
       "}\n",
       "#T_180a7_row3_col1 {\n",
       "  background-color: #cccfe5;\n",
       "  color: #000000;\n",
       "}\n",
       "#T_180a7_row3_col2, #T_180a7_row4_col4 {\n",
       "  background-color: #c9cee4;\n",
       "  color: #000000;\n",
       "}\n",
       "#T_180a7_row3_col3 {\n",
       "  background-color: #c4cbe3;\n",
       "  color: #000000;\n",
       "}\n",
       "#T_180a7_row3_col5, #T_180a7_row4_col0 {\n",
       "  background-color: #c8cde4;\n",
       "  color: #000000;\n",
       "}\n",
       "#T_180a7_row3_col6 {\n",
       "  background-color: #c9cee4;\n",
       "  color: #000000;\n",
       "  font-weight: bold;\n",
       "}\n",
       "#T_180a7_row4_col1 {\n",
       "  background-color: #d1d2e6;\n",
       "  color: #000000;\n",
       "}\n",
       "#T_180a7_row4_col3 {\n",
       "  background-color: #c2cbe2;\n",
       "  color: #000000;\n",
       "}\n",
       "#T_180a7_row4_col5 {\n",
       "  background-color: #d0d1e6;\n",
       "  color: #000000;\n",
       "}\n",
       "#T_180a7_row4_col6 {\n",
       "  background-color: #cccfe5;\n",
       "  color: #000000;\n",
       "  font-weight: bold;\n",
       "}\n",
       "#T_180a7_row5_col0 {\n",
       "  background-color: #f4eef6;\n",
       "  color: #000000;\n",
       "}\n",
       "#T_180a7_row5_col1 {\n",
       "  background-color: #f3edf5;\n",
       "  color: #000000;\n",
       "}\n",
       "#T_180a7_row5_col2 {\n",
       "  background-color: #f5eff6;\n",
       "  color: #000000;\n",
       "}\n",
       "#T_180a7_row5_col3 {\n",
       "  background-color: #f0eaf4;\n",
       "  color: #000000;\n",
       "}\n",
       "#T_180a7_row5_col4, #T_180a7_row5_col5 {\n",
       "  background-color: #f2ecf5;\n",
       "  color: #000000;\n",
       "}\n",
       "#T_180a7_row5_col6 {\n",
       "  background-color: #f3edf5;\n",
       "  color: #000000;\n",
       "  font-weight: bold;\n",
       "}\n",
       "#T_180a7_row6_col0, #T_180a7_row8_col3 {\n",
       "  background-color: #fdf5fa;\n",
       "  color: #000000;\n",
       "}\n",
       "#T_180a7_row6_col1, #T_180a7_row7_col5 {\n",
       "  background-color: #fbf3f9;\n",
       "  color: #000000;\n",
       "}\n",
       "#T_180a7_row6_col2, #T_180a7_row6_col3 {\n",
       "  background-color: #f9f2f8;\n",
       "  color: #000000;\n",
       "}\n",
       "#T_180a7_row6_col4 {\n",
       "  background-color: #f6eff7;\n",
       "  color: #000000;\n",
       "}\n",
       "#T_180a7_row6_col5 {\n",
       "  background-color: #f8f1f8;\n",
       "  color: #000000;\n",
       "}\n",
       "#T_180a7_row6_col6 {\n",
       "  background-color: #f9f2f8;\n",
       "  color: #000000;\n",
       "  font-weight: bold;\n",
       "}\n",
       "#T_180a7_row7_col0, #T_180a7_row7_col1, #T_180a7_row7_col2, #T_180a7_row7_col3, #T_180a7_row8_col0, #T_180a7_row8_col1, #T_180a7_row8_col2, #T_180a7_row8_col4, #T_180a7_row8_col5 {\n",
       "  background-color: #fff7fb;\n",
       "  color: #000000;\n",
       "}\n",
       "#T_180a7_row7_col4 {\n",
       "  background-color: #fef6fa;\n",
       "  color: #000000;\n",
       "}\n",
       "#T_180a7_row7_col6, #T_180a7_row8_col6 {\n",
       "  background-color: #fff7fb;\n",
       "  color: #000000;\n",
       "  font-weight: bold;\n",
       "}\n",
       "</style>\n",
       "<table id=\"T_180a7\">\n",
       "  <thead>\n",
       "    <tr>\n",
       "      <th class=\"index_name level0\" >Purchase Date</th>\n",
       "      <th id=\"T_180a7_level0_col0\" class=\"col_heading level0 col0\" >2019</th>\n",
       "      <th id=\"T_180a7_level0_col1\" class=\"col_heading level0 col1\" >2020</th>\n",
       "      <th id=\"T_180a7_level0_col2\" class=\"col_heading level0 col2\" >2021</th>\n",
       "      <th id=\"T_180a7_level0_col3\" class=\"col_heading level0 col3\" >2022</th>\n",
       "      <th id=\"T_180a7_level0_col4\" class=\"col_heading level0 col4\" >2023</th>\n",
       "      <th id=\"T_180a7_level0_col5\" class=\"col_heading level0 col5\" >2024</th>\n",
       "      <th id=\"T_180a7_level0_col6\" class=\"col_heading level0 col6\" >Total Gross Amount</th>\n",
       "    </tr>\n",
       "    <tr>\n",
       "      <th class=\"index_name level0\" >Product Category</th>\n",
       "      <th class=\"blank col0\" >&nbsp;</th>\n",
       "      <th class=\"blank col1\" >&nbsp;</th>\n",
       "      <th class=\"blank col2\" >&nbsp;</th>\n",
       "      <th class=\"blank col3\" >&nbsp;</th>\n",
       "      <th class=\"blank col4\" >&nbsp;</th>\n",
       "      <th class=\"blank col5\" >&nbsp;</th>\n",
       "      <th class=\"blank col6\" >&nbsp;</th>\n",
       "    </tr>\n",
       "  </thead>\n",
       "  <tbody>\n",
       "    <tr>\n",
       "      <th id=\"T_180a7_level0_row0\" class=\"row_heading level0 row0\" >Electronics</th>\n",
       "      <td id=\"T_180a7_row0_col0\" class=\"data row0 col0\" >3,028,177</td>\n",
       "      <td id=\"T_180a7_row0_col1\" class=\"data row0 col1\" >9,396,560</td>\n",
       "      <td id=\"T_180a7_row0_col2\" class=\"data row0 col2\" >9,510,622</td>\n",
       "      <td id=\"T_180a7_row0_col3\" class=\"data row0 col3\" >9,892,735</td>\n",
       "      <td id=\"T_180a7_row0_col4\" class=\"data row0 col4\" >10,583,952</td>\n",
       "      <td id=\"T_180a7_row0_col5\" class=\"data row0 col5\" >7,274,389</td>\n",
       "      <td id=\"T_180a7_row0_col6\" class=\"data row0 col6\" >49,686,435</td>\n",
       "    </tr>\n",
       "    <tr>\n",
       "      <th id=\"T_180a7_level0_row1\" class=\"row_heading level0 row1\" >Clothing</th>\n",
       "      <td id=\"T_180a7_row1_col0\" class=\"data row1 col0\" >1,863,501</td>\n",
       "      <td id=\"T_180a7_row1_col1\" class=\"data row1 col1\" >5,979,380</td>\n",
       "      <td id=\"T_180a7_row1_col2\" class=\"data row1 col2\" >6,597,490</td>\n",
       "      <td id=\"T_180a7_row1_col3\" class=\"data row1 col3\" >6,584,864</td>\n",
       "      <td id=\"T_180a7_row1_col4\" class=\"data row1 col4\" >7,006,153</td>\n",
       "      <td id=\"T_180a7_row1_col5\" class=\"data row1 col5\" >4,663,280</td>\n",
       "      <td id=\"T_180a7_row1_col6\" class=\"data row1 col6\" >32,694,667</td>\n",
       "    </tr>\n",
       "    <tr>\n",
       "      <th id=\"T_180a7_level0_row2\" class=\"row_heading level0 row2\" >Beauty and Health</th>\n",
       "      <td id=\"T_180a7_row2_col0\" class=\"data row2 col0\" >1,522,662</td>\n",
       "      <td id=\"T_180a7_row2_col1\" class=\"data row2 col1\" >4,778,438</td>\n",
       "      <td id=\"T_180a7_row2_col2\" class=\"data row2 col2\" >5,107,862</td>\n",
       "      <td id=\"T_180a7_row2_col3\" class=\"data row2 col3\" >5,096,713</td>\n",
       "      <td id=\"T_180a7_row2_col4\" class=\"data row2 col4\" >5,159,608</td>\n",
       "      <td id=\"T_180a7_row2_col5\" class=\"data row2 col5\" >3,633,125</td>\n",
       "      <td id=\"T_180a7_row2_col6\" class=\"data row2 col6\" >25,298,409</td>\n",
       "    </tr>\n",
       "    <tr>\n",
       "      <th id=\"T_180a7_level0_row3\" class=\"row_heading level0 row3\" >Sports & Fitness</th>\n",
       "      <td id=\"T_180a7_row3_col0\" class=\"data row3 col0\" >1,035,938</td>\n",
       "      <td id=\"T_180a7_row3_col1\" class=\"data row3 col1\" >3,136,088</td>\n",
       "      <td id=\"T_180a7_row3_col2\" class=\"data row3 col2\" >3,235,827</td>\n",
       "      <td id=\"T_180a7_row3_col3\" class=\"data row3 col3\" >3,448,634</td>\n",
       "      <td id=\"T_180a7_row3_col4\" class=\"data row3 col4\" >3,568,712</td>\n",
       "      <td id=\"T_180a7_row3_col5\" class=\"data row3 col5\" >2,456,135</td>\n",
       "      <td id=\"T_180a7_row3_col6\" class=\"data row3 col6\" >16,881,334</td>\n",
       "    </tr>\n",
       "    <tr>\n",
       "      <th id=\"T_180a7_level0_row4\" class=\"row_heading level0 row4\" >Home & Kitchen</th>\n",
       "      <td id=\"T_180a7_row4_col0\" class=\"data row4 col0\" >1,052,435</td>\n",
       "      <td id=\"T_180a7_row4_col1\" class=\"data row4 col1\" >3,014,379</td>\n",
       "      <td id=\"T_180a7_row4_col2\" class=\"data row4 col2\" >3,188,107</td>\n",
       "      <td id=\"T_180a7_row4_col3\" class=\"data row4 col3\" >3,485,303</td>\n",
       "      <td id=\"T_180a7_row4_col4\" class=\"data row4 col4\" >3,587,850</td>\n",
       "      <td id=\"T_180a7_row4_col5\" class=\"data row4 col5\" >2,308,763</td>\n",
       "      <td id=\"T_180a7_row4_col6\" class=\"data row4 col6\" >16,636,837</td>\n",
       "    </tr>\n",
       "    <tr>\n",
       "      <th id=\"T_180a7_level0_row5\" class=\"row_heading level0 row5\" >Books</th>\n",
       "      <td id=\"T_180a7_row5_col0\" class=\"data row5 col0\" >495,285</td>\n",
       "      <td id=\"T_180a7_row5_col1\" class=\"data row5 col1\" >1,580,516</td>\n",
       "      <td id=\"T_180a7_row5_col2\" class=\"data row5 col2\" >1,465,064</td>\n",
       "      <td id=\"T_180a7_row5_col3\" class=\"data row5 col3\" >1,749,722</td>\n",
       "      <td id=\"T_180a7_row5_col4\" class=\"data row5 col4\" >1,812,831</td>\n",
       "      <td id=\"T_180a7_row5_col5\" class=\"data row5 col5\" >1,200,889</td>\n",
       "      <td id=\"T_180a7_row5_col6\" class=\"data row5 col6\" >8,304,307</td>\n",
       "    </tr>\n",
       "    <tr>\n",
       "      <th id=\"T_180a7_level0_row6\" class=\"row_heading level0 row6\" >Other</th>\n",
       "      <td id=\"T_180a7_row6_col0\" class=\"data row6 col0\" >349,326</td>\n",
       "      <td id=\"T_180a7_row6_col1\" class=\"data row6 col1\" >1,151,650</td>\n",
       "      <td id=\"T_180a7_row6_col2\" class=\"data row6 col2\" >1,263,501</td>\n",
       "      <td id=\"T_180a7_row6_col3\" class=\"data row6 col3\" >1,241,527</td>\n",
       "      <td id=\"T_180a7_row6_col4\" class=\"data row6 col4\" >1,553,156</td>\n",
       "      <td id=\"T_180a7_row6_col5\" class=\"data row6 col5\" >945,629</td>\n",
       "      <td id=\"T_180a7_row6_col6\" class=\"data row6 col6\" >6,504,790</td>\n",
       "    </tr>\n",
       "    <tr>\n",
       "      <th id=\"T_180a7_level0_row7\" class=\"row_heading level0 row7\" >Pet Care</th>\n",
       "      <td id=\"T_180a7_row7_col0\" class=\"data row7 col0\" >303,951</td>\n",
       "      <td id=\"T_180a7_row7_col1\" class=\"data row7 col1\" >903,371</td>\n",
       "      <td id=\"T_180a7_row7_col2\" class=\"data row7 col2\" >893,577</td>\n",
       "      <td id=\"T_180a7_row7_col3\" class=\"data row7 col3\" >860,238</td>\n",
       "      <td id=\"T_180a7_row7_col4\" class=\"data row7 col4\" >1,069,453</td>\n",
       "      <td id=\"T_180a7_row7_col5\" class=\"data row7 col5\" >820,344</td>\n",
       "      <td id=\"T_180a7_row7_col6\" class=\"data row7 col6\" >4,850,934</td>\n",
       "    </tr>\n",
       "    <tr>\n",
       "      <th id=\"T_180a7_level0_row8\" class=\"row_heading level0 row8\" >Toys & Games</th>\n",
       "      <td id=\"T_180a7_row8_col0\" class=\"data row8 col0\" >303,212</td>\n",
       "      <td id=\"T_180a7_row8_col1\" class=\"data row8 col1\" >889,828</td>\n",
       "      <td id=\"T_180a7_row8_col2\" class=\"data row8 col2\" >899,962</td>\n",
       "      <td id=\"T_180a7_row8_col3\" class=\"data row8 col3\" >981,800</td>\n",
       "      <td id=\"T_180a7_row8_col4\" class=\"data row8 col4\" >983,206</td>\n",
       "      <td id=\"T_180a7_row8_col5\" class=\"data row8 col5\" >627,048</td>\n",
       "      <td id=\"T_180a7_row8_col6\" class=\"data row8 col6\" >4,685,055</td>\n",
       "    </tr>\n",
       "  </tbody>\n",
       "</table>\n"
      ],
      "text/plain": [
       "<pandas.io.formats.style.Styler at 0x226e77effe0>"
      ]
     },
     "execution_count": 97,
     "metadata": {},
     "output_type": "execute_result"
    }
   ],
   "source": [
    "pivot_gross_amount_by_categories_years = df_cleaned.pivot_table(\n",
    "    index='Product Category',\n",
    "    columns=pd.to_datetime(df_cleaned['Purchase Date']).dt.year,\n",
    "    values='Gross Amount',\n",
    "    aggfunc='sum',\n",
    "    observed=True\n",
    ")\n",
    "\n",
    "pivot_gross_amount_by_categories_years['Total Gross Amount'] = (\n",
    "    pivot_gross_amount_by_categories_years.sum(axis=1)\n",
    ")\n",
    "\n",
    "pivot_gross_amount_by_categories_years_sorted = (\n",
    "    pivot_gross_amount_by_categories_years.sort_values(\n",
    "        by='Total Gross Amount',\n",
    "        ascending=False\n",
    "    )\n",
    ")\n",
    "\n",
    "pivot_gross_amount_by_categories_years_sorted.style.format(\n",
    "    '{:,.0f}'\n",
    ").background_gradient(\n",
    "    axis=0\n",
    ").set_properties(\n",
    "    **{'font-weight': 'bold'},\n",
    "    subset=['Total Gross Amount']\n",
    ")"
   ]
  },
  {
   "cell_type": "code",
   "execution_count": 98,
   "id": "562d0280-e80a-4fb0-bc13-1d16fa63ec0c",
   "metadata": {},
   "outputs": [
    {
     "data": {
      "text/html": [
       "<style type=\"text/css\">\n",
       "#T_ffb6c_row0_col0, #T_ffb6c_row0_col1, #T_ffb6c_row0_col2, #T_ffb6c_row0_col3 {\n",
       "  background-color: #023858;\n",
       "  color: #f1f1f1;\n",
       "}\n",
       "#T_ffb6c_row0_col4 {\n",
       "  background-color: #023858;\n",
       "  color: #f1f1f1;\n",
       "  font-weight: bold;\n",
       "}\n",
       "#T_ffb6c_row1_col0 {\n",
       "  background-color: #2987bc;\n",
       "  color: #f1f1f1;\n",
       "}\n",
       "#T_ffb6c_row1_col1 {\n",
       "  background-color: #358fc0;\n",
       "  color: #f1f1f1;\n",
       "}\n",
       "#T_ffb6c_row1_col2 {\n",
       "  background-color: #549cc7;\n",
       "  color: #f1f1f1;\n",
       "}\n",
       "#T_ffb6c_row1_col3 {\n",
       "  background-color: #2d8abd;\n",
       "  color: #f1f1f1;\n",
       "}\n",
       "#T_ffb6c_row1_col4 {\n",
       "  background-color: #3790c0;\n",
       "  color: #f1f1f1;\n",
       "  font-weight: bold;\n",
       "}\n",
       "#T_ffb6c_row2_col0 {\n",
       "  background-color: #7eadd1;\n",
       "  color: #f1f1f1;\n",
       "}\n",
       "#T_ffb6c_row2_col1 {\n",
       "  background-color: #93b5d6;\n",
       "  color: #000000;\n",
       "}\n",
       "#T_ffb6c_row2_col2 {\n",
       "  background-color: #8eb3d5;\n",
       "  color: #000000;\n",
       "}\n",
       "#T_ffb6c_row2_col3 {\n",
       "  background-color: #78abd0;\n",
       "  color: #f1f1f1;\n",
       "}\n",
       "#T_ffb6c_row2_col4 {\n",
       "  background-color: #84b0d3;\n",
       "  color: #f1f1f1;\n",
       "  font-weight: bold;\n",
       "}\n",
       "#T_ffb6c_row3_col0, #T_ffb6c_row4_col0 {\n",
       "  background-color: #c8cde4;\n",
       "  color: #000000;\n",
       "}\n",
       "#T_ffb6c_row3_col1, #T_ffb6c_row4_col3 {\n",
       "  background-color: #c9cee4;\n",
       "  color: #000000;\n",
       "}\n",
       "#T_ffb6c_row3_col2 {\n",
       "  background-color: #ced0e6;\n",
       "  color: #000000;\n",
       "}\n",
       "#T_ffb6c_row3_col3 {\n",
       "  background-color: #c5cce3;\n",
       "  color: #000000;\n",
       "}\n",
       "#T_ffb6c_row3_col4 {\n",
       "  background-color: #c9cee4;\n",
       "  color: #000000;\n",
       "  font-weight: bold;\n",
       "}\n",
       "#T_ffb6c_row4_col1 {\n",
       "  background-color: #cacee5;\n",
       "  color: #000000;\n",
       "}\n",
       "#T_ffb6c_row4_col2 {\n",
       "  background-color: #d1d2e6;\n",
       "  color: #000000;\n",
       "}\n",
       "#T_ffb6c_row4_col4 {\n",
       "  background-color: #cccfe5;\n",
       "  color: #000000;\n",
       "  font-weight: bold;\n",
       "}\n",
       "#T_ffb6c_row5_col0 {\n",
       "  background-color: #f3edf5;\n",
       "  color: #000000;\n",
       "}\n",
       "#T_ffb6c_row5_col1 {\n",
       "  background-color: #f1ebf5;\n",
       "  color: #000000;\n",
       "}\n",
       "#T_ffb6c_row5_col2, #T_ffb6c_row5_col3 {\n",
       "  background-color: #f4edf6;\n",
       "  color: #000000;\n",
       "}\n",
       "#T_ffb6c_row5_col4 {\n",
       "  background-color: #f3edf5;\n",
       "  color: #000000;\n",
       "  font-weight: bold;\n",
       "}\n",
       "#T_ffb6c_row6_col0 {\n",
       "  background-color: #f9f2f8;\n",
       "  color: #000000;\n",
       "}\n",
       "#T_ffb6c_row6_col1 {\n",
       "  background-color: #fbf3f9;\n",
       "  color: #000000;\n",
       "}\n",
       "#T_ffb6c_row6_col2 {\n",
       "  background-color: #faf2f8;\n",
       "  color: #000000;\n",
       "}\n",
       "#T_ffb6c_row6_col3 {\n",
       "  background-color: #f7f0f7;\n",
       "  color: #000000;\n",
       "}\n",
       "#T_ffb6c_row6_col4 {\n",
       "  background-color: #f9f2f8;\n",
       "  color: #000000;\n",
       "  font-weight: bold;\n",
       "}\n",
       "#T_ffb6c_row7_col0 {\n",
       "  background-color: #fef6fa;\n",
       "  color: #000000;\n",
       "}\n",
       "#T_ffb6c_row7_col1 {\n",
       "  background-color: #fef6fb;\n",
       "  color: #000000;\n",
       "}\n",
       "#T_ffb6c_row7_col2, #T_ffb6c_row7_col3, #T_ffb6c_row8_col0, #T_ffb6c_row8_col1, #T_ffb6c_row8_col2, #T_ffb6c_row8_col3 {\n",
       "  background-color: #fff7fb;\n",
       "  color: #000000;\n",
       "}\n",
       "#T_ffb6c_row7_col4, #T_ffb6c_row8_col4 {\n",
       "  background-color: #fff7fb;\n",
       "  color: #000000;\n",
       "  font-weight: bold;\n",
       "}\n",
       "</style>\n",
       "<table id=\"T_ffb6c\">\n",
       "  <thead>\n",
       "    <tr>\n",
       "      <th class=\"index_name level0\" >Purchase Quarter</th>\n",
       "      <th id=\"T_ffb6c_level0_col0\" class=\"col_heading level0 col0\" >Q1</th>\n",
       "      <th id=\"T_ffb6c_level0_col1\" class=\"col_heading level0 col1\" >Q2</th>\n",
       "      <th id=\"T_ffb6c_level0_col2\" class=\"col_heading level0 col2\" >Q3</th>\n",
       "      <th id=\"T_ffb6c_level0_col3\" class=\"col_heading level0 col3\" >Q4</th>\n",
       "      <th id=\"T_ffb6c_level0_col4\" class=\"col_heading level0 col4\" >Total Gross Amount</th>\n",
       "    </tr>\n",
       "    <tr>\n",
       "      <th class=\"index_name level0\" >Product Category</th>\n",
       "      <th class=\"blank col0\" >&nbsp;</th>\n",
       "      <th class=\"blank col1\" >&nbsp;</th>\n",
       "      <th class=\"blank col2\" >&nbsp;</th>\n",
       "      <th class=\"blank col3\" >&nbsp;</th>\n",
       "      <th class=\"blank col4\" >&nbsp;</th>\n",
       "    </tr>\n",
       "  </thead>\n",
       "  <tbody>\n",
       "    <tr>\n",
       "      <th id=\"T_ffb6c_level0_row0\" class=\"row_heading level0 row0\" >Electronics</th>\n",
       "      <td id=\"T_ffb6c_row0_col0\" class=\"data row0 col0\" >10,686,958</td>\n",
       "      <td id=\"T_ffb6c_row0_col1\" class=\"data row0 col1\" >11,760,244</td>\n",
       "      <td id=\"T_ffb6c_row0_col2\" class=\"data row0 col2\" >12,523,534</td>\n",
       "      <td id=\"T_ffb6c_row0_col3\" class=\"data row0 col3\" >14,715,699</td>\n",
       "      <td id=\"T_ffb6c_row0_col4\" class=\"data row0 col4\" >49,686,435</td>\n",
       "    </tr>\n",
       "    <tr>\n",
       "      <th id=\"T_ffb6c_level0_row1\" class=\"row_heading level0 row1\" >Clothing</th>\n",
       "      <td id=\"T_ffb6c_row1_col0\" class=\"data row1 col0\" >7,385,549</td>\n",
       "      <td id=\"T_ffb6c_row1_col1\" class=\"data row1 col1\" >7,805,661</td>\n",
       "      <td id=\"T_ffb6c_row1_col2\" class=\"data row1 col2\" >7,550,069</td>\n",
       "      <td id=\"T_ffb6c_row1_col3\" class=\"data row1 col3\" >9,953,388</td>\n",
       "      <td id=\"T_ffb6c_row1_col4\" class=\"data row1 col4\" >32,694,667</td>\n",
       "    </tr>\n",
       "    <tr>\n",
       "      <th id=\"T_ffb6c_level0_row2\" class=\"row_heading level0 row2\" >Beauty and Health</th>\n",
       "      <td id=\"T_ffb6c_row2_col0\" class=\"data row2 col0\" >5,612,671</td>\n",
       "      <td id=\"T_ffb6c_row2_col1\" class=\"data row2 col1\" >5,682,226</td>\n",
       "      <td id=\"T_ffb6c_row2_col2\" class=\"data row2 col2\" >6,100,277</td>\n",
       "      <td id=\"T_ffb6c_row2_col3\" class=\"data row2 col3\" >7,903,234</td>\n",
       "      <td id=\"T_ffb6c_row2_col4\" class=\"data row2 col4\" >25,298,409</td>\n",
       "    </tr>\n",
       "    <tr>\n",
       "      <th id=\"T_ffb6c_level0_row3\" class=\"row_heading level0 row3\" >Sports & Fitness</th>\n",
       "      <td id=\"T_ffb6c_row3_col0\" class=\"data row3 col0\" >3,683,395</td>\n",
       "      <td id=\"T_ffb6c_row3_col1\" class=\"data row3 col1\" >4,071,472</td>\n",
       "      <td id=\"T_ffb6c_row3_col2\" class=\"data row3 col2\" >4,043,729</td>\n",
       "      <td id=\"T_ffb6c_row3_col3\" class=\"data row3 col3\" >5,082,738</td>\n",
       "      <td id=\"T_ffb6c_row3_col4\" class=\"data row3 col4\" >16,881,334</td>\n",
       "    </tr>\n",
       "    <tr>\n",
       "      <th id=\"T_ffb6c_level0_row4\" class=\"row_heading level0 row4\" >Home & Kitchen</th>\n",
       "      <td id=\"T_ffb6c_row4_col0\" class=\"data row4 col0\" >3,685,931</td>\n",
       "      <td id=\"T_ffb6c_row4_col1\" class=\"data row4 col1\" >4,001,713</td>\n",
       "      <td id=\"T_ffb6c_row4_col2\" class=\"data row4 col2\" >3,983,065</td>\n",
       "      <td id=\"T_ffb6c_row4_col3\" class=\"data row4 col3\" >4,966,129</td>\n",
       "      <td id=\"T_ffb6c_row4_col4\" class=\"data row4 col4\" >16,636,837</td>\n",
       "    </tr>\n",
       "    <tr>\n",
       "      <th id=\"T_ffb6c_level0_row5\" class=\"row_heading level0 row5\" >Books</th>\n",
       "      <td id=\"T_ffb6c_row5_col0\" class=\"data row5 col0\" >1,786,193</td>\n",
       "      <td id=\"T_ffb6c_row5_col1\" class=\"data row5 col1\" >2,144,574</td>\n",
       "      <td id=\"T_ffb6c_row5_col2\" class=\"data row5 col2\" >2,018,868</td>\n",
       "      <td id=\"T_ffb6c_row5_col3\" class=\"data row5 col3\" >2,354,673</td>\n",
       "      <td id=\"T_ffb6c_row5_col4\" class=\"data row5 col4\" >8,304,307</td>\n",
       "    </tr>\n",
       "    <tr>\n",
       "      <th id=\"T_ffb6c_level0_row6\" class=\"row_heading level0 row6\" >Other</th>\n",
       "      <td id=\"T_ffb6c_row6_col0\" class=\"data row6 col0\" >1,396,066</td>\n",
       "      <td id=\"T_ffb6c_row6_col1\" class=\"data row6 col1\" >1,493,267</td>\n",
       "      <td id=\"T_ffb6c_row6_col2\" class=\"data row6 col2\" >1,585,288</td>\n",
       "      <td id=\"T_ffb6c_row6_col3\" class=\"data row6 col3\" >2,030,169</td>\n",
       "      <td id=\"T_ffb6c_row6_col4\" class=\"data row6 col4\" >6,504,790</td>\n",
       "    </tr>\n",
       "    <tr>\n",
       "      <th id=\"T_ffb6c_level0_row7\" class=\"row_heading level0 row7\" >Pet Care</th>\n",
       "      <td id=\"T_ffb6c_row7_col0\" class=\"data row7 col0\" >1,107,264</td>\n",
       "      <td id=\"T_ffb6c_row7_col1\" class=\"data row7 col1\" >1,243,493</td>\n",
       "      <td id=\"T_ffb6c_row7_col2\" class=\"data row7 col2\" >1,192,534</td>\n",
       "      <td id=\"T_ffb6c_row7_col3\" class=\"data row7 col3\" >1,307,644</td>\n",
       "      <td id=\"T_ffb6c_row7_col4\" class=\"data row7 col4\" >4,850,934</td>\n",
       "    </tr>\n",
       "    <tr>\n",
       "      <th id=\"T_ffb6c_level0_row8\" class=\"row_heading level0 row8\" >Toys & Games</th>\n",
       "      <td id=\"T_ffb6c_row8_col0\" class=\"data row8 col0\" >1,016,756</td>\n",
       "      <td id=\"T_ffb6c_row8_col1\" class=\"data row8 col1\" >1,192,722</td>\n",
       "      <td id=\"T_ffb6c_row8_col2\" class=\"data row8 col2\" >1,151,531</td>\n",
       "      <td id=\"T_ffb6c_row8_col3\" class=\"data row8 col3\" >1,324,046</td>\n",
       "      <td id=\"T_ffb6c_row8_col4\" class=\"data row8 col4\" >4,685,055</td>\n",
       "    </tr>\n",
       "  </tbody>\n",
       "</table>\n"
      ],
      "text/plain": [
       "<pandas.io.formats.style.Styler at 0x226e8b455e0>"
      ]
     },
     "execution_count": 98,
     "metadata": {},
     "output_type": "execute_result"
    }
   ],
   "source": [
    "quarters_mapping = {\n",
    "    'January': 'Q1',\n",
    "    'February': 'Q1',\n",
    "    'March': 'Q1',\n",
    "    'April': 'Q2',\n",
    "    'May': 'Q2',\n",
    "    'June': 'Q2',\n",
    "    'July': 'Q3',\n",
    "    'August': 'Q3',\n",
    "    'September': 'Q3',\n",
    "    'October': 'Q4',\n",
    "    'November': 'Q4',\n",
    "    'December': 'Q4'\n",
    "}\n",
    "\n",
    "df_cleaned['Purchase Quarter'] = df_cleaned['Purchase Month Name'].map(quarters_mapping)\n",
    "\n",
    "pivot_gross_amount_by_categories_quarter = df_cleaned.pivot_table(\n",
    "    index='Product Category',\n",
    "    columns='Purchase Quarter',\n",
    "    values='Gross Amount',\n",
    "    aggfunc='sum',\n",
    "    observed=True\n",
    ")\n",
    "\n",
    "pivot_gross_amount_by_categories_quarter[\n",
    "    'Total Gross Amount'\n",
    "] = pivot_gross_amount_by_categories_quarter.sum(axis=1)\n",
    "\n",
    "pivot_gross_amount_by_categories_quarter_sorted = (\n",
    "    pivot_gross_amount_by_categories_quarter.sort_values(\n",
    "        by='Total Gross Amount',\n",
    "        ascending=False\n",
    "    )\n",
    ")\n",
    "\n",
    "pivot_gross_amount_by_categories_quarter_sorted.style.format(\n",
    "    '{:,.0f}'\n",
    ").background_gradient(\n",
    "    axis=0\n",
    ").set_properties(\n",
    "    **{'font-weight': 'bold'},\n",
    "    subset=['Total Gross Amount']\n",
    ")"
   ]
  },
  {
   "cell_type": "markdown",
   "id": "aa289355-a3c0-4b3e-a747-7d8ed1b331d4",
   "metadata": {},
   "source": [
    "**Data Insights:**\n",
    "\n",
    "The data shows that Electronics brings in the most money, followed by Clothing and Beauty and Health. These categories consistently perform well. On the other hand, Toys & Games and Pet Care show weaker results, with noticeable drops in growth. Looking at quarterly data, Q4 is the most profitable for most categories, while sales *in Q1 and Q2 remain steady but lower.\n",
    "\n",
    "**Recommendations:**\n",
    "\n",
    "* Keep investing in Electronics, Clothing, and Beauty & Health as they consistently generate the most revenue.\n",
    "\n",
    "* Investigate the decline in Electronics in 2024 to understand the cause.\n",
    "\n",
    "* For weaker categories like Toys & Games and Pet Care, consider special offers or introducing new products to boost performance.\n",
    "\n",
    "Focus on seasonal sales and promotions during Q4, as this quarter sees the highest customer activity."
   ]
  },
  {
   "cell_type": "markdown",
   "id": "93dcdffc-60ed-464f-9eba-1772e67bf503",
   "metadata": {},
   "source": [
    "* **Is there a correlation between the amount of discount and the total transactions by month?**"
   ]
  },
  {
   "cell_type": "markdown",
   "id": "b8f08e57-1687-4145-95fb-92c686f86b3e",
   "metadata": {},
   "source": [
    "To group the data by `Purchase Month Name` and check if there's a correlation between total `Discount Amount (INR)` and number of `Transaction ID`:"
   ]
  },
  {
   "cell_type": "code",
   "execution_count": 102,
   "id": "013ab62e-62fe-472a-91ff-4b8ba634888b",
   "metadata": {},
   "outputs": [
    {
     "data": {
      "text/html": [
       "<style type=\"text/css\">\n",
       "#T_3741d_row0_col1, #T_3741d_row9_col1 {\n",
       "  background-color: #023858;\n",
       "  color: #f1f1f1;\n",
       "  font-weight: bold;\n",
       "}\n",
       "#T_3741d_row1_col1 {\n",
       "  background-color: #fff7fb;\n",
       "  color: #000000;\n",
       "  font-weight: bold;\n",
       "}\n",
       "#T_3741d_row2_col1 {\n",
       "  background-color: #034f7d;\n",
       "  color: #f1f1f1;\n",
       "  font-weight: bold;\n",
       "}\n",
       "#T_3741d_row3_col1, #T_3741d_row4_col1 {\n",
       "  background-color: #04588a;\n",
       "  color: #f1f1f1;\n",
       "  font-weight: bold;\n",
       "}\n",
       "#T_3741d_row5_col1 {\n",
       "  background-color: #4697c4;\n",
       "  color: #f1f1f1;\n",
       "  font-weight: bold;\n",
       "}\n",
       "#T_3741d_row6_col1 {\n",
       "  background-color: #045687;\n",
       "  color: #f1f1f1;\n",
       "  font-weight: bold;\n",
       "}\n",
       "#T_3741d_row7_col1 {\n",
       "  background-color: #045585;\n",
       "  color: #f1f1f1;\n",
       "  font-weight: bold;\n",
       "}\n",
       "#T_3741d_row8_col1 {\n",
       "  background-color: #2685bb;\n",
       "  color: #f1f1f1;\n",
       "  font-weight: bold;\n",
       "}\n",
       "#T_3741d_row10_col1 {\n",
       "  background-color: #308cbe;\n",
       "  color: #f1f1f1;\n",
       "  font-weight: bold;\n",
       "}\n",
       "#T_3741d_row11_col1 {\n",
       "  background-color: #045280;\n",
       "  color: #f1f1f1;\n",
       "  font-weight: bold;\n",
       "}\n",
       "</style>\n",
       "<table id=\"T_3741d\">\n",
       "  <thead>\n",
       "    <tr>\n",
       "      <th class=\"blank level0\" >&nbsp;</th>\n",
       "      <th id=\"T_3741d_level0_col0\" class=\"col_heading level0 col0\" >Total Discount Amount (INR)</th>\n",
       "      <th id=\"T_3741d_level0_col1\" class=\"col_heading level0 col1\" >Total Transactions</th>\n",
       "    </tr>\n",
       "    <tr>\n",
       "      <th class=\"index_name level0\" >Purchase Month Name</th>\n",
       "      <th class=\"blank col0\" >&nbsp;</th>\n",
       "      <th class=\"blank col1\" >&nbsp;</th>\n",
       "    </tr>\n",
       "  </thead>\n",
       "  <tbody>\n",
       "    <tr>\n",
       "      <th id=\"T_3741d_level0_row0\" class=\"row_heading level0 row0\" >January</th>\n",
       "      <td id=\"T_3741d_row0_col0\" class=\"data row0 col0\" >603,288</td>\n",
       "      <td id=\"T_3741d_row0_col1\" class=\"data row0 col1\" >4,649</td>\n",
       "    </tr>\n",
       "    <tr>\n",
       "      <th id=\"T_3741d_level0_row1\" class=\"row_heading level0 row1\" >February</th>\n",
       "      <td id=\"T_3741d_row1_col0\" class=\"data row1 col0\" >543,425</td>\n",
       "      <td id=\"T_3741d_row1_col1\" class=\"data row1 col1\" >4,139</td>\n",
       "    </tr>\n",
       "    <tr>\n",
       "      <th id=\"T_3741d_level0_row2\" class=\"row_heading level0 row2\" >March</th>\n",
       "      <td id=\"T_3741d_row2_col0\" class=\"data row2 col0\" >612,778</td>\n",
       "      <td id=\"T_3741d_row2_col1\" class=\"data row2 col1\" >4,605</td>\n",
       "    </tr>\n",
       "    <tr>\n",
       "      <th id=\"T_3741d_level0_row3\" class=\"row_heading level0 row3\" >April</th>\n",
       "      <td id=\"T_3741d_row3_col0\" class=\"data row3 col0\" >631,153</td>\n",
       "      <td id=\"T_3741d_row3_col1\" class=\"data row3 col1\" >4,588</td>\n",
       "    </tr>\n",
       "    <tr>\n",
       "      <th id=\"T_3741d_level0_row4\" class=\"row_heading level0 row4\" >May</th>\n",
       "      <td id=\"T_3741d_row4_col0\" class=\"data row4 col0\" >613,521</td>\n",
       "      <td id=\"T_3741d_row4_col1\" class=\"data row4 col1\" >4,588</td>\n",
       "    </tr>\n",
       "    <tr>\n",
       "      <th id=\"T_3741d_level0_row5\" class=\"row_heading level0 row5\" >June</th>\n",
       "      <td id=\"T_3741d_row5_col0\" class=\"data row5 col0\" >590,670</td>\n",
       "      <td id=\"T_3741d_row5_col1\" class=\"data row5 col1\" >4,440</td>\n",
       "    </tr>\n",
       "    <tr>\n",
       "      <th id=\"T_3741d_level0_row6\" class=\"row_heading level0 row6\" >July</th>\n",
       "      <td id=\"T_3741d_row6_col0\" class=\"data row6 col0\" >628,508</td>\n",
       "      <td id=\"T_3741d_row6_col1\" class=\"data row6 col1\" >4,592</td>\n",
       "    </tr>\n",
       "    <tr>\n",
       "      <th id=\"T_3741d_level0_row7\" class=\"row_heading level0 row7\" >August</th>\n",
       "      <td id=\"T_3741d_row7_col0\" class=\"data row7 col0\" >612,280</td>\n",
       "      <td id=\"T_3741d_row7_col1\" class=\"data row7 col1\" >4,595</td>\n",
       "    </tr>\n",
       "    <tr>\n",
       "      <th id=\"T_3741d_level0_row8\" class=\"row_heading level0 row8\" >September</th>\n",
       "      <td id=\"T_3741d_row8_col0\" class=\"data row8 col0\" >605,640</td>\n",
       "      <td id=\"T_3741d_row8_col1\" class=\"data row8 col1\" >4,478</td>\n",
       "    </tr>\n",
       "    <tr>\n",
       "      <th id=\"T_3741d_level0_row9\" class=\"row_heading level0 row9\" >October</th>\n",
       "      <td id=\"T_3741d_row9_col0\" class=\"data row9 col0\" >618,403</td>\n",
       "      <td id=\"T_3741d_row9_col1\" class=\"data row9 col1\" >4,649</td>\n",
       "    </tr>\n",
       "    <tr>\n",
       "      <th id=\"T_3741d_level0_row10\" class=\"row_heading level0 row10\" >November</th>\n",
       "      <td id=\"T_3741d_row10_col0\" class=\"data row10 col0\" >606,161</td>\n",
       "      <td id=\"T_3741d_row10_col1\" class=\"data row10 col1\" >4,464</td>\n",
       "    </tr>\n",
       "    <tr>\n",
       "      <th id=\"T_3741d_level0_row11\" class=\"row_heading level0 row11\" >December</th>\n",
       "      <td id=\"T_3741d_row11_col0\" class=\"data row11 col0\" >632,315</td>\n",
       "      <td id=\"T_3741d_row11_col1\" class=\"data row11 col1\" >4,600</td>\n",
       "    </tr>\n",
       "  </tbody>\n",
       "</table>\n"
      ],
      "text/plain": [
       "<pandas.io.formats.style.Styler at 0x226e77ee270>"
      ]
     },
     "execution_count": 102,
     "metadata": {},
     "output_type": "execute_result"
    }
   ],
   "source": [
    "month_order = list(quarters_mapping.keys())\n",
    "\n",
    "pivot_discount_transactions_by_month = df_cleaned.pivot_table(\n",
    "    index='Purchase Month Name',\n",
    "    values=['Discount Amount (INR)', 'Transaction ID'],\n",
    "    aggfunc={\n",
    "        'Discount Amount (INR)': 'sum',\n",
    "        'Transaction ID': 'count'\n",
    "    },\n",
    "    observed=True\n",
    ")\n",
    "\n",
    "pivot_discount_transactions_by_month = pivot_discount_transactions_by_month.rename(\n",
    "    columns={\n",
    "        'Discount Amount (INR)': 'Total Discount Amount (INR)',\n",
    "        'Transaction ID': 'Total Transactions'\n",
    "    }\n",
    ")\n",
    "\n",
    "pivot_discount_transactions_by_month.index = pd.CategoricalIndex(\n",
    "    pivot_discount_transactions_by_month.index,\n",
    "    categories=month_order,\n",
    "    ordered=True\n",
    ")\n",
    "\n",
    "pivot_discount_transactions_by_month = (\n",
    "    pivot_discount_transactions_by_month.sort_index()\n",
    ")\n",
    "\n",
    "pivot_discount_transactions_by_month.style.format('{:,.0f}').background_gradient(\n",
    "    axis=0,\n",
    "    subset=['Total Transactions']\n",
    ").set_properties(\n",
    "    **{'font-weight': 'bold'},\n",
    "    subset=['Total Transactions']\n",
    ")"
   ]
  },
  {
   "cell_type": "code",
   "execution_count": 103,
   "id": "98ac4e48-2c01-45ce-b7d8-a911d5664403",
   "metadata": {},
   "outputs": [
    {
     "data": {
      "text/plain": [
       "'Correlation between total discount amount and total transactions: 0.89'"
      ]
     },
     "metadata": {},
     "output_type": "display_data"
    }
   ],
   "source": [
    "correlation = pivot_discount_transactions_by_month[\n",
    "    'Total Discount Amount (INR)'\n",
    "].corr(\n",
    "    pivot_discount_transactions_by_month['Total Transactions']\n",
    ")\n",
    "\n",
    "display(\n",
    "    f'Correlation between total discount amount and total transactions: {correlation:.2f}'\n",
    ")"
   ]
  },
  {
   "cell_type": "markdown",
   "id": "61e34c1c-27de-481a-b90b-bf235fcb0df3",
   "metadata": {},
   "source": [
    "Thus, a correlation of 0.89 indicates a very strong positive relationship between the amount of discount and the total transactions, which may suggest that discounts do indeed encourage customers to make more purchases.\n",
    "\n",
    "**Data Insights:**\n",
    "\n",
    "The table shows that discounts and purchases vary every month. Discounts were highest in April and July, while the total transactions stayed mostly the same throughout the year. In months like February and September, when discounts were lower, there were also fewer purchases.\n",
    "\n",
    "**Recommendations:**\n",
    "\n",
    "* Increase discounts in months with fewer purchases, like February and September.\n",
    "\n",
    "* Be aware that more discounts don't always mean more purchases — other factors like the season or marketing campaigns might also play a role.\n",
    "\n",
    "* Track how discounts affect purchases to improve your strategy."
   ]
  },
  {
   "cell_type": "markdown",
   "id": "2d33c3bf-32dc-4e1f-aa84-797b1798a10d",
   "metadata": {},
   "source": [
    "* **How many people use discounts?**"
   ]
  },
  {
   "cell_type": "markdown",
   "id": "b2a31c56-15b1-465b-b550-a675e8d3f5f0",
   "metadata": {},
   "source": [
    "Group the data by `Discount Availed` and calculate the total `Net Amount` and the percentage of total `Transaction ID` where a discount was used:"
   ]
  },
  {
   "cell_type": "code",
   "execution_count": 107,
   "id": "999f7890-20c5-4426-b2dc-319c82fdf990",
   "metadata": {},
   "outputs": [
    {
     "data": {
      "text/html": [
       "<style type=\"text/css\">\n",
       "#T_67763_row0_col2 {\n",
       "  background-color: #fff7fb;\n",
       "  color: #000000;\n",
       "  font-weight: bold;\n",
       "}\n",
       "#T_67763_row1_col2 {\n",
       "  background-color: #dcdaeb;\n",
       "  color: #000000;\n",
       "  font-weight: bold;\n",
       "}\n",
       "#T_67763_row2_col2 {\n",
       "  background-color: #84b0d3;\n",
       "  color: #f1f1f1;\n",
       "  font-weight: bold;\n",
       "}\n",
       "#T_67763_row3_col2 {\n",
       "  background-color: #023858;\n",
       "  color: #f1f1f1;\n",
       "  font-weight: bold;\n",
       "}\n",
       "#T_67763_row4_col2 {\n",
       "  background-color: #6ba5cd;\n",
       "  color: #f1f1f1;\n",
       "  font-weight: bold;\n",
       "}\n",
       "#T_67763_row5_col2 {\n",
       "  background-color: #a2bcda;\n",
       "  color: #000000;\n",
       "  font-weight: bold;\n",
       "}\n",
       "#T_67763_row6_col2 {\n",
       "  background-color: #3790c0;\n",
       "  color: #f1f1f1;\n",
       "  font-weight: bold;\n",
       "}\n",
       "#T_67763_row7_col2 {\n",
       "  background-color: #c1cae2;\n",
       "  color: #000000;\n",
       "  font-weight: bold;\n",
       "}\n",
       "#T_67763_row8_col2 {\n",
       "  background-color: #056aa6;\n",
       "  color: #f1f1f1;\n",
       "  font-weight: bold;\n",
       "}\n",
       "#T_67763_row9_col2 {\n",
       "  background-color: #b4c4df;\n",
       "  color: #000000;\n",
       "  font-weight: bold;\n",
       "}\n",
       "#T_67763_row10_col2 {\n",
       "  background-color: #2987bc;\n",
       "  color: #f1f1f1;\n",
       "  font-weight: bold;\n",
       "}\n",
       "#T_67763_row11_col2 {\n",
       "  background-color: #034973;\n",
       "  color: #f1f1f1;\n",
       "  font-weight: bold;\n",
       "}\n",
       "</style>\n",
       "<table id=\"T_67763\">\n",
       "  <thead>\n",
       "    <tr>\n",
       "      <th class=\"blank level0\" >&nbsp;</th>\n",
       "      <th id=\"T_67763_level0_col0\" class=\"col_heading level0 col0\" >Total Net Amount (No Discount)</th>\n",
       "      <th id=\"T_67763_level0_col1\" class=\"col_heading level0 col1\" >Total Net Amount (Discount Used)</th>\n",
       "      <th id=\"T_67763_level0_col2\" class=\"col_heading level0 col2\" >% of Total Transactions (Discount Used)</th>\n",
       "    </tr>\n",
       "    <tr>\n",
       "      <th class=\"index_name level0\" >Purchase Month Name</th>\n",
       "      <th class=\"blank col0\" >&nbsp;</th>\n",
       "      <th class=\"blank col1\" >&nbsp;</th>\n",
       "      <th class=\"blank col2\" >&nbsp;</th>\n",
       "    </tr>\n",
       "  </thead>\n",
       "  <tbody>\n",
       "    <tr>\n",
       "      <th id=\"T_67763_level0_row0\" class=\"row_heading level0 row0\" >January</th>\n",
       "      <td id=\"T_67763_row0_col0\" class=\"data row0 col0\" >6,561,815</td>\n",
       "      <td id=\"T_67763_row0_col1\" class=\"data row0 col1\" >5,472,118</td>\n",
       "      <td id=\"T_67763_row0_col2\" class=\"data row0 col2\" >47.88%</td>\n",
       "    </tr>\n",
       "    <tr>\n",
       "      <th id=\"T_67763_level0_row1\" class=\"row_heading level0 row1\" >February</th>\n",
       "      <td id=\"T_67763_row1_col0\" class=\"data row1 col0\" >5,428,640</td>\n",
       "      <td id=\"T_67763_row1_col1\" class=\"data row1 col1\" >4,578,923</td>\n",
       "      <td id=\"T_67763_row1_col2\" class=\"data row1 col2\" >48.42%</td>\n",
       "    </tr>\n",
       "    <tr>\n",
       "      <th id=\"T_67763_level0_row2\" class=\"row_heading level0 row2\" >March</th>\n",
       "      <td id=\"T_67763_row2_col0\" class=\"data row2 col0\" >6,599,442</td>\n",
       "      <td id=\"T_67763_row2_col1\" class=\"data row2 col1\" >5,960,355</td>\n",
       "      <td id=\"T_67763_row2_col2\" class=\"data row2 col2\" >49.12%</td>\n",
       "    </tr>\n",
       "    <tr>\n",
       "      <th id=\"T_67763_level0_row3\" class=\"row_heading level0 row3\" >April</th>\n",
       "      <td id=\"T_67763_row3_col0\" class=\"data row3 col0\" >6,635,745</td>\n",
       "      <td id=\"T_67763_row3_col1\" class=\"data row3 col1\" >6,389,272</td>\n",
       "      <td id=\"T_67763_row3_col2\" class=\"data row3 col2\" >50.59%</td>\n",
       "    </tr>\n",
       "    <tr>\n",
       "      <th id=\"T_67763_level0_row4\" class=\"row_heading level0 row4\" >May</th>\n",
       "      <td id=\"T_67763_row4_col0\" class=\"data row4 col0\" >6,894,287</td>\n",
       "      <td id=\"T_67763_row4_col1\" class=\"data row4 col1\" >6,307,325</td>\n",
       "      <td id=\"T_67763_row4_col2\" class=\"data row4 col2\" >49.28%</td>\n",
       "    </tr>\n",
       "    <tr>\n",
       "      <th id=\"T_67763_level0_row5\" class=\"row_heading level0 row5\" >June</th>\n",
       "      <td id=\"T_67763_row5_col0\" class=\"data row5 col0\" >6,016,564</td>\n",
       "      <td id=\"T_67763_row5_col1\" class=\"data row5 col1\" >5,316,834</td>\n",
       "      <td id=\"T_67763_row5_col2\" class=\"data row5 col2\" >48.92%</td>\n",
       "    </tr>\n",
       "    <tr>\n",
       "      <th id=\"T_67763_level0_row6\" class=\"row_heading level0 row6\" >July</th>\n",
       "      <td id=\"T_67763_row6_col0\" class=\"data row6 col0\" >6,304,325</td>\n",
       "      <td id=\"T_67763_row6_col1\" class=\"data row6 col1\" >5,551,359</td>\n",
       "      <td id=\"T_67763_row6_col2\" class=\"data row6 col2\" >49.56%</td>\n",
       "    </tr>\n",
       "    <tr>\n",
       "      <th id=\"T_67763_level0_row7\" class=\"row_heading level0 row7\" >August</th>\n",
       "      <td id=\"T_67763_row7_col0\" class=\"data row7 col0\" >7,044,349</td>\n",
       "      <td id=\"T_67763_row7_col1\" class=\"data row7 col1\" >6,179,306</td>\n",
       "      <td id=\"T_67763_row7_col2\" class=\"data row7 col2\" >48.68%</td>\n",
       "    </tr>\n",
       "    <tr>\n",
       "      <th id=\"T_67763_level0_row8\" class=\"row_heading level0 row8\" >September</th>\n",
       "      <td id=\"T_67763_row8_col0\" class=\"data row8 col0\" >6,815,908</td>\n",
       "      <td id=\"T_67763_row8_col1\" class=\"data row8 col1\" >6,407,220</td>\n",
       "      <td id=\"T_67763_row8_col2\" class=\"data row8 col2\" >50.00%</td>\n",
       "    </tr>\n",
       "    <tr>\n",
       "      <th id=\"T_67763_level0_row9\" class=\"row_heading level0 row9\" >October</th>\n",
       "      <td id=\"T_67763_row9_col0\" class=\"data row9 col0\" >7,421,496</td>\n",
       "      <td id=\"T_67763_row9_col1\" class=\"data row9 col1\" >6,605,464</td>\n",
       "      <td id=\"T_67763_row9_col2\" class=\"data row9 col2\" >48.78%</td>\n",
       "    </tr>\n",
       "    <tr>\n",
       "      <th id=\"T_67763_level0_row10\" class=\"row_heading level0 row10\" >November</th>\n",
       "      <td id=\"T_67763_row10_col0\" class=\"data row10 col0\" >8,250,883</td>\n",
       "      <td id=\"T_67763_row10_col1\" class=\"data row10 col1\" >7,599,653</td>\n",
       "      <td id=\"T_67763_row10_col2\" class=\"data row10 col2\" >49.66%</td>\n",
       "    </tr>\n",
       "    <tr>\n",
       "      <th id=\"T_67763_level0_row11\" class=\"row_heading level0 row11\" >December</th>\n",
       "      <td id=\"T_67763_row11_col0\" class=\"data row11 col0\" >9,150,617</td>\n",
       "      <td id=\"T_67763_row11_col1\" class=\"data row11 col1\" >8,752,725</td>\n",
       "      <td id=\"T_67763_row11_col2\" class=\"data row11 col2\" >50.41%</td>\n",
       "    </tr>\n",
       "  </tbody>\n",
       "</table>\n"
      ],
      "text/plain": [
       "<pandas.io.formats.style.Styler at 0x226e9e15520>"
      ]
     },
     "execution_count": 107,
     "metadata": {},
     "output_type": "execute_result"
    }
   ],
   "source": [
    "month_order = list(quarters_mapping.keys())\n",
    "\n",
    "pivot_discount_by_month = df_cleaned.pivot_table(\n",
    "    index='Purchase Month Name',\n",
    "    columns='Discount Availed',\n",
    "    values=['Net Amount', 'Transaction ID'],\n",
    "    aggfunc={\n",
    "        'Net Amount': 'sum',\n",
    "        'Transaction ID': 'count'\n",
    "    },\n",
    "    observed=True\n",
    ")\n",
    "\n",
    "pivot_discount_by_month.columns = [\n",
    "    'Total Net Amount (No Discount)',\n",
    "    'Total Net Amount (Discount Used)',\n",
    "    'Total Transactions (No Discount)',\n",
    "    'Total Transactions (Discount Used)'\n",
    "]\n",
    "\n",
    "pivot_discount_by_month[\n",
    "    '% of Total Transactions (Discount Used)'\n",
    "] = (\n",
    "    pivot_discount_by_month['Total Transactions (Discount Used)'] /\n",
    "    (\n",
    "        pivot_discount_by_month['Total Transactions (No Discount)'] +\n",
    "        pivot_discount_by_month['Total Transactions (Discount Used)']\n",
    "    ) * 100\n",
    ")\n",
    "\n",
    "pivot_discount_by_month = pivot_discount_by_month[\n",
    "    [\n",
    "        'Total Net Amount (No Discount)',\n",
    "        'Total Net Amount (Discount Used)',\n",
    "        '% of Total Transactions (Discount Used)'\n",
    "    ]\n",
    "]\n",
    "\n",
    "pivot_discount_by_month.index = pd.CategoricalIndex(\n",
    "    pivot_discount_by_month.index,\n",
    "    categories=month_order,\n",
    "    ordered=True\n",
    ")\n",
    "\n",
    "pivot_discount_by_month = pivot_discount_by_month.sort_index()\n",
    "\n",
    "pivot_discount_by_month.style.format({\n",
    "    'Total Net Amount (No Discount)': '{:,.0f}',\n",
    "    'Total Net Amount (Discount Used)': '{:,.0f}',\n",
    "    '% of Total Transactions (Discount Used)': '{:,.2f}%'\n",
    "}).background_gradient(\n",
    "    axis=0,\n",
    "    subset=['% of Total Transactions (Discount Used)']\n",
    ").set_properties(\n",
    "    **{'font-weight': 'bold'},\n",
    "    subset=['% of Total Transactions (Discount Used)']\n",
    ")"
   ]
  },
  {
   "cell_type": "markdown",
   "id": "18c2a9e3-f59d-4b6f-98d3-56752c5c60c7",
   "metadata": {},
   "source": [
    "**Data Insights:**\n",
    "\n",
    "Sales without discounts generate the highest revenue, but discounted products also perform strongly, especially in the later months of the year. The percentage of transactions with discounts peaks in April and December.\n",
    "\n",
    "**Recommendations:**\n",
    "\n",
    "* Consider offering more discounts in January and February to boost purchases during slower months.\n",
    "\n",
    "* In peak months like April and December, think about additional discounts to increase sales."
   ]
  },
  {
   "cell_type": "markdown",
   "id": "fee11739-7304-4222-80da-98fb835a0949",
   "metadata": {},
   "source": [
    "* **Нow much total revenue was generated by each age group and gender?**"
   ]
  },
  {
   "cell_type": "markdown",
   "id": "e8185c09-76ca-4ad5-aab3-e5f56660700f",
   "metadata": {},
   "source": [
    "Group the data by `Age Group` and `Gender`, and calculate the count of unique `Customer ID`, the total `Net Amount`, and the average and median `Net Amount` for each combination of age group and gender:"
   ]
  },
  {
   "cell_type": "code",
   "execution_count": 112,
   "id": "204e63c8-858a-489f-844c-24079307995b",
   "metadata": {},
   "outputs": [
    {
     "data": {
      "text/html": [
       "<style type=\"text/css\">\n",
       "#T_6ebeb_row0_col0 {\n",
       "  background-color: #0f76b3;\n",
       "  color: #f1f1f1;\n",
       "}\n",
       "#T_6ebeb_row0_col1 {\n",
       "  background-color: #c2cbe2;\n",
       "  color: #000000;\n",
       "}\n",
       "#T_6ebeb_row0_col2 {\n",
       "  background-color: #bfc9e1;\n",
       "  color: #000000;\n",
       "}\n",
       "#T_6ebeb_row0_col3 {\n",
       "  background-color: #1e80b8;\n",
       "  color: #f1f1f1;\n",
       "}\n",
       "#T_6ebeb_row1_col0 {\n",
       "  background-color: #1278b4;\n",
       "  color: #f1f1f1;\n",
       "}\n",
       "#T_6ebeb_row1_col1 {\n",
       "  background-color: #e0dded;\n",
       "  color: #000000;\n",
       "}\n",
       "#T_6ebeb_row1_col2, #T_6ebeb_row6_col1, #T_6ebeb_row10_col0, #T_6ebeb_row10_col3 {\n",
       "  background-color: #fff7fb;\n",
       "  color: #000000;\n",
       "}\n",
       "#T_6ebeb_row1_col3 {\n",
       "  background-color: #2383ba;\n",
       "  color: #f1f1f1;\n",
       "}\n",
       "#T_6ebeb_row2_col0 {\n",
       "  background-color: #0d75b3;\n",
       "  color: #f1f1f1;\n",
       "}\n",
       "#T_6ebeb_row2_col1 {\n",
       "  background-color: #9ebad9;\n",
       "  color: #000000;\n",
       "}\n",
       "#T_6ebeb_row2_col2 {\n",
       "  background-color: #e1dfed;\n",
       "  color: #000000;\n",
       "}\n",
       "#T_6ebeb_row2_col3 {\n",
       "  background-color: #197db7;\n",
       "  color: #f1f1f1;\n",
       "}\n",
       "#T_6ebeb_row3_col0 {\n",
       "  background-color: #023a5b;\n",
       "  color: #f1f1f1;\n",
       "}\n",
       "#T_6ebeb_row3_col1 {\n",
       "  background-color: #69a5cc;\n",
       "  color: #f1f1f1;\n",
       "}\n",
       "#T_6ebeb_row3_col2 {\n",
       "  background-color: #ced0e6;\n",
       "  color: #000000;\n",
       "}\n",
       "#T_6ebeb_row3_col3 {\n",
       "  background-color: #023e62;\n",
       "  color: #f1f1f1;\n",
       "}\n",
       "#T_6ebeb_row4_col0 {\n",
       "  background-color: #023d60;\n",
       "  color: #f1f1f1;\n",
       "}\n",
       "#T_6ebeb_row4_col1 {\n",
       "  background-color: #3d93c2;\n",
       "  color: #f1f1f1;\n",
       "}\n",
       "#T_6ebeb_row4_col2 {\n",
       "  background-color: #9fbad9;\n",
       "  color: #000000;\n",
       "}\n",
       "#T_6ebeb_row4_col3 {\n",
       "  background-color: #023f64;\n",
       "  color: #f1f1f1;\n",
       "}\n",
       "#T_6ebeb_row5_col0, #T_6ebeb_row5_col1, #T_6ebeb_row5_col3, #T_6ebeb_row14_col2 {\n",
       "  background-color: #023858;\n",
       "  color: #f1f1f1;\n",
       "}\n",
       "#T_6ebeb_row5_col2 {\n",
       "  background-color: #569dc8;\n",
       "  color: #f1f1f1;\n",
       "}\n",
       "#T_6ebeb_row6_col0 {\n",
       "  background-color: #81aed2;\n",
       "  color: #f1f1f1;\n",
       "}\n",
       "#T_6ebeb_row6_col2, #T_6ebeb_row11_col0, #T_6ebeb_row11_col3, #T_6ebeb_row13_col0, #T_6ebeb_row13_col3 {\n",
       "  background-color: #fef6fb;\n",
       "  color: #000000;\n",
       "}\n",
       "#T_6ebeb_row6_col3 {\n",
       "  background-color: #93b5d6;\n",
       "  color: #000000;\n",
       "}\n",
       "#T_6ebeb_row7_col0 {\n",
       "  background-color: #89b1d4;\n",
       "  color: #000000;\n",
       "}\n",
       "#T_6ebeb_row7_col1 {\n",
       "  background-color: #b1c2de;\n",
       "  color: #000000;\n",
       "}\n",
       "#T_6ebeb_row7_col2 {\n",
       "  background-color: #c9cee4;\n",
       "  color: #000000;\n",
       "}\n",
       "#T_6ebeb_row7_col3 {\n",
       "  background-color: #97b7d7;\n",
       "  color: #000000;\n",
       "}\n",
       "#T_6ebeb_row8_col0 {\n",
       "  background-color: #86b0d3;\n",
       "  color: #000000;\n",
       "}\n",
       "#T_6ebeb_row8_col1, #T_6ebeb_row9_col2 {\n",
       "  background-color: #3991c1;\n",
       "  color: #f1f1f1;\n",
       "}\n",
       "#T_6ebeb_row8_col2 {\n",
       "  background-color: #afc1dd;\n",
       "  color: #000000;\n",
       "}\n",
       "#T_6ebeb_row8_col3 {\n",
       "  background-color: #8fb4d6;\n",
       "  color: #000000;\n",
       "}\n",
       "#T_6ebeb_row9_col0, #T_6ebeb_row12_col0 {\n",
       "  background-color: #fef6fa;\n",
       "  color: #000000;\n",
       "}\n",
       "#T_6ebeb_row9_col1 {\n",
       "  background-color: #0872b1;\n",
       "  color: #f1f1f1;\n",
       "}\n",
       "#T_6ebeb_row9_col3, #T_6ebeb_row12_col3, #T_6ebeb_row14_col0, #T_6ebeb_row14_col3 {\n",
       "  background-color: #fdf5fa;\n",
       "  color: #000000;\n",
       "}\n",
       "#T_6ebeb_row10_col1 {\n",
       "  background-color: #71a8ce;\n",
       "  color: #f1f1f1;\n",
       "}\n",
       "#T_6ebeb_row10_col2 {\n",
       "  background-color: #eee8f3;\n",
       "  color: #000000;\n",
       "}\n",
       "#T_6ebeb_row11_col1 {\n",
       "  background-color: #6ba5cd;\n",
       "  color: #f1f1f1;\n",
       "}\n",
       "#T_6ebeb_row11_col2 {\n",
       "  background-color: #63a2cb;\n",
       "  color: #f1f1f1;\n",
       "}\n",
       "#T_6ebeb_row12_col1 {\n",
       "  background-color: #2182b9;\n",
       "  color: #f1f1f1;\n",
       "}\n",
       "#T_6ebeb_row12_col2 {\n",
       "  background-color: #d6d6e9;\n",
       "  color: #000000;\n",
       "}\n",
       "#T_6ebeb_row13_col1 {\n",
       "  background-color: #04598c;\n",
       "  color: #f1f1f1;\n",
       "}\n",
       "#T_6ebeb_row13_col2 {\n",
       "  background-color: #99b8d8;\n",
       "  color: #000000;\n",
       "}\n",
       "#T_6ebeb_row14_col1 {\n",
       "  background-color: #60a1ca;\n",
       "  color: #f1f1f1;\n",
       "}\n",
       "</style>\n",
       "<table id=\"T_6ebeb\">\n",
       "  <thead>\n",
       "    <tr>\n",
       "      <th class=\"blank\" >&nbsp;</th>\n",
       "      <th class=\"blank level0\" >&nbsp;</th>\n",
       "      <th id=\"T_6ebeb_level0_col0\" class=\"col_heading level0 col0\" >Unique Customers</th>\n",
       "      <th id=\"T_6ebeb_level0_col1\" class=\"col_heading level0 col1\" >Average Net Amount</th>\n",
       "      <th id=\"T_6ebeb_level0_col2\" class=\"col_heading level0 col2\" >Median Net Amount</th>\n",
       "      <th id=\"T_6ebeb_level0_col3\" class=\"col_heading level0 col3\" >Total Net Amount</th>\n",
       "    </tr>\n",
       "    <tr>\n",
       "      <th class=\"index_name level0\" >Age Group</th>\n",
       "      <th class=\"index_name level1\" >Gender</th>\n",
       "      <th class=\"blank col0\" >&nbsp;</th>\n",
       "      <th class=\"blank col1\" >&nbsp;</th>\n",
       "      <th class=\"blank col2\" >&nbsp;</th>\n",
       "      <th class=\"blank col3\" >&nbsp;</th>\n",
       "    </tr>\n",
       "  </thead>\n",
       "  <tbody>\n",
       "    <tr>\n",
       "      <th id=\"T_6ebeb_level0_row0\" class=\"row_heading level0 row0\" rowspan=\"3\">18-25</th>\n",
       "      <th id=\"T_6ebeb_level1_row0\" class=\"row_heading level1 row0\" >Female</th>\n",
       "      <td id=\"T_6ebeb_row0_col0\" class=\"data row0 col0\" >5,050</td>\n",
       "      <td id=\"T_6ebeb_row0_col1\" class=\"data row0 col1\" >2,884.25</td>\n",
       "      <td id=\"T_6ebeb_row0_col2\" class=\"data row0 col2\" >2,845.95</td>\n",
       "      <td id=\"T_6ebeb_row0_col3\" class=\"data row0 col3\" >15,589,362</td>\n",
       "    </tr>\n",
       "    <tr>\n",
       "      <th id=\"T_6ebeb_level1_row1\" class=\"row_heading level1 row1\" >Male</th>\n",
       "      <td id=\"T_6ebeb_row1_col0\" class=\"data row1 col0\" >5,004</td>\n",
       "      <td id=\"T_6ebeb_row1_col1\" class=\"data row1 col1\" >2,870.71</td>\n",
       "      <td id=\"T_6ebeb_row1_col2\" class=\"data row1 col2\" >2,763.63</td>\n",
       "      <td id=\"T_6ebeb_row1_col3\" class=\"data row1 col3\" >15,375,515</td>\n",
       "    </tr>\n",
       "    <tr>\n",
       "      <th id=\"T_6ebeb_level1_row2\" class=\"row_heading level1 row2\" >Other</th>\n",
       "      <td id=\"T_6ebeb_row2_col0\" class=\"data row2 col0\" >5,081</td>\n",
       "      <td id=\"T_6ebeb_row2_col1\" class=\"data row2 col1\" >2,896.96</td>\n",
       "      <td id=\"T_6ebeb_row2_col2\" class=\"data row2 col2\" >2,810.71</td>\n",
       "      <td id=\"T_6ebeb_row2_col3\" class=\"data row2 col3\" >15,860,843</td>\n",
       "    </tr>\n",
       "    <tr>\n",
       "      <th id=\"T_6ebeb_level0_row3\" class=\"row_heading level0 row3\" rowspan=\"3\">25-45</th>\n",
       "      <th id=\"T_6ebeb_level1_row3\" class=\"row_heading level1 row3\" >Female</th>\n",
       "      <td id=\"T_6ebeb_row3_col0\" class=\"data row3 col0\" >6,595</td>\n",
       "      <td id=\"T_6ebeb_row3_col1\" class=\"data row3 col1\" >2,912.28</td>\n",
       "      <td id=\"T_6ebeb_row3_col2\" class=\"data row3 col2\" >2,833.06</td>\n",
       "      <td id=\"T_6ebeb_row3_col3\" class=\"data row3 col3\" >21,180,996</td>\n",
       "    </tr>\n",
       "    <tr>\n",
       "      <th id=\"T_6ebeb_level1_row4\" class=\"row_heading level1 row4\" >Male</th>\n",
       "      <td id=\"T_6ebeb_row4_col0\" class=\"data row4 col0\" >6,523</td>\n",
       "      <td id=\"T_6ebeb_row4_col1\" class=\"data row4 col1\" >2,923.10</td>\n",
       "      <td id=\"T_6ebeb_row4_col2\" class=\"data row4 col2\" >2,870.76</td>\n",
       "      <td id=\"T_6ebeb_row4_col3\" class=\"data row4 col3\" >21,122,306</td>\n",
       "    </tr>\n",
       "    <tr>\n",
       "      <th id=\"T_6ebeb_level1_row5\" class=\"row_heading level1 row5\" >Other</th>\n",
       "      <td id=\"T_6ebeb_row5_col0\" class=\"data row5 col0\" >6,652</td>\n",
       "      <td id=\"T_6ebeb_row5_col1\" class=\"data row5 col1\" >2,970.59</td>\n",
       "      <td id=\"T_6ebeb_row5_col2\" class=\"data row5 col2\" >2,916.09</td>\n",
       "      <td id=\"T_6ebeb_row5_col3\" class=\"data row5 col3\" >21,655,614</td>\n",
       "    </tr>\n",
       "    <tr>\n",
       "      <th id=\"T_6ebeb_level0_row6\" class=\"row_heading level0 row6\" rowspan=\"3\">45-60</th>\n",
       "      <th id=\"T_6ebeb_level1_row6\" class=\"row_heading level1 row6\" >Female</th>\n",
       "      <td id=\"T_6ebeb_row6_col0\" class=\"data row6 col0\" >3,545</td>\n",
       "      <td id=\"T_6ebeb_row6_col1\" class=\"data row6 col1\" >2,848.76</td>\n",
       "      <td id=\"T_6ebeb_row6_col2\" class=\"data row6 col2\" >2,764.93</td>\n",
       "      <td id=\"T_6ebeb_row6_col3\" class=\"data row6 col3\" >10,568,899</td>\n",
       "    </tr>\n",
       "    <tr>\n",
       "      <th id=\"T_6ebeb_level1_row7\" class=\"row_heading level1 row7\" >Male</th>\n",
       "      <td id=\"T_6ebeb_row7_col0\" class=\"data row7 col0\" >3,434</td>\n",
       "      <td id=\"T_6ebeb_row7_col1\" class=\"data row7 col1\" >2,890.29</td>\n",
       "      <td id=\"T_6ebeb_row7_col2\" class=\"data row7 col2\" >2,837.39</td>\n",
       "      <td id=\"T_6ebeb_row7_col3\" class=\"data row7 col3\" >10,376,150</td>\n",
       "    </tr>\n",
       "    <tr>\n",
       "      <th id=\"T_6ebeb_level1_row8\" class=\"row_heading level1 row8\" >Other</th>\n",
       "      <td id=\"T_6ebeb_row8_col0\" class=\"data row8 col0\" >3,492</td>\n",
       "      <td id=\"T_6ebeb_row8_col1\" class=\"data row8 col1\" >2,924.19</td>\n",
       "      <td id=\"T_6ebeb_row8_col2\" class=\"data row8 col2\" >2,858.16</td>\n",
       "      <td id=\"T_6ebeb_row8_col3\" class=\"data row8 col3\" >10,752,232</td>\n",
       "    </tr>\n",
       "    <tr>\n",
       "      <th id=\"T_6ebeb_level0_row9\" class=\"row_heading level0 row9\" rowspan=\"3\">60 and above</th>\n",
       "      <th id=\"T_6ebeb_level1_row9\" class=\"row_heading level1 row9\" >Female</th>\n",
       "      <td id=\"T_6ebeb_row9_col0\" class=\"data row9 col0\" >902</td>\n",
       "      <td id=\"T_6ebeb_row9_col1\" class=\"data row9 col1\" >2,938.74</td>\n",
       "      <td id=\"T_6ebeb_row9_col2\" class=\"data row9 col2\" >2,931.36</td>\n",
       "      <td id=\"T_6ebeb_row9_col3\" class=\"data row9 col3\" >2,697,759</td>\n",
       "    </tr>\n",
       "    <tr>\n",
       "      <th id=\"T_6ebeb_level1_row10\" class=\"row_heading level1 row10\" >Male</th>\n",
       "      <td id=\"T_6ebeb_row10_col0\" class=\"data row10 col0\" >843</td>\n",
       "      <td id=\"T_6ebeb_row10_col1\" class=\"data row10 col1\" >2,910.52</td>\n",
       "      <td id=\"T_6ebeb_row10_col2\" class=\"data row10 col2\" >2,795.11</td>\n",
       "      <td id=\"T_6ebeb_row10_col3\" class=\"data row10 col3\" >2,471,035</td>\n",
       "    </tr>\n",
       "    <tr>\n",
       "      <th id=\"T_6ebeb_level1_row11\" class=\"row_heading level1 row11\" >Other</th>\n",
       "      <td id=\"T_6ebeb_row11_col0\" class=\"data row11 col0\" >877</td>\n",
       "      <td id=\"T_6ebeb_row11_col1\" class=\"data row11 col1\" >2,911.88</td>\n",
       "      <td id=\"T_6ebeb_row11_col2\" class=\"data row11 col2\" >2,908.81</td>\n",
       "      <td id=\"T_6ebeb_row11_col3\" class=\"data row11 col3\" >2,582,838</td>\n",
       "    </tr>\n",
       "    <tr>\n",
       "      <th id=\"T_6ebeb_level0_row12\" class=\"row_heading level0 row12\" rowspan=\"3\">under 18</th>\n",
       "      <th id=\"T_6ebeb_level1_row12\" class=\"row_heading level1 row12\" >Female</th>\n",
       "      <td id=\"T_6ebeb_row12_col0\" class=\"data row12 col0\" >910</td>\n",
       "      <td id=\"T_6ebeb_row12_col1\" class=\"data row12 col1\" >2,931.28</td>\n",
       "      <td id=\"T_6ebeb_row12_col2\" class=\"data row12 col2\" >2,824.97</td>\n",
       "      <td id=\"T_6ebeb_row12_col3\" class=\"data row12 col3\" >2,702,638</td>\n",
       "    </tr>\n",
       "    <tr>\n",
       "      <th id=\"T_6ebeb_level1_row13\" class=\"row_heading level1 row13\" >Male</th>\n",
       "      <td id=\"T_6ebeb_row13_col0\" class=\"data row13 col0\" >869</td>\n",
       "      <td id=\"T_6ebeb_row13_col1\" class=\"data row13 col1\" >2,955.65</td>\n",
       "      <td id=\"T_6ebeb_row13_col2\" class=\"data row13 col2\" >2,874.09</td>\n",
       "      <td id=\"T_6ebeb_row13_col3\" class=\"data row13 col3\" >2,577,330</td>\n",
       "    </tr>\n",
       "    <tr>\n",
       "      <th id=\"T_6ebeb_level1_row14\" class=\"row_heading level1 row14\" >Other</th>\n",
       "      <td id=\"T_6ebeb_row14_col0\" class=\"data row14 col0\" >921</td>\n",
       "      <td id=\"T_6ebeb_row14_col1\" class=\"data row14 col1\" >2,914.74</td>\n",
       "      <td id=\"T_6ebeb_row14_col2\" class=\"data row14 col2\" >3,035.29</td>\n",
       "      <td id=\"T_6ebeb_row14_col3\" class=\"data row14 col3\" >2,731,107</td>\n",
       "    </tr>\n",
       "  </tbody>\n",
       "</table>\n"
      ],
      "text/plain": [
       "<pandas.io.formats.style.Styler at 0x226eb565010>"
      ]
     },
     "execution_count": 112,
     "metadata": {},
     "output_type": "execute_result"
    }
   ],
   "source": [
    "pivot_net_amount_by_age_gender = df_cleaned.pivot_table(\n",
    "    index=['Age Group', 'Gender'],\n",
    "    values=['Customer ID', 'Net Amount'],\n",
    "    aggfunc={\n",
    "        'Customer ID': 'nunique',\n",
    "        'Net Amount': ['mean', 'median', 'sum']\n",
    "    },\n",
    "    observed=True\n",
    ")\n",
    "\n",
    "pivot_net_amount_by_age_gender.columns = [\n",
    "    'Unique Customers',\n",
    "    'Average Net Amount',\n",
    "    'Median Net Amount',\n",
    "    'Total Net Amount'\n",
    "]\n",
    "\n",
    "pivot_net_amount_by_age_gender.style.format(\n",
    "    {\n",
    "        'Unique Customers': '{:,.0f}',\n",
    "        'Average Net Amount': '{:,.2f}',\n",
    "        'Median Net Amount': '{:,.2f}',\n",
    "        'Total Net Amount': '{:,.0f}'\n",
    "    }\n",
    ").background_gradient(axis=0)"
   ]
  },
  {
   "cell_type": "markdown",
   "id": "5aea241f-ae50-4a56-be80-cde8b5beb34f",
   "metadata": {},
   "source": [
    "**Data Insights:**\n",
    "\n",
    "People aged 25–45 generate the highest total revenue, with each gender group in this range contributing over 21 million INR. The average and median net amounts across all age groups stay fairly consistent, usually ranging between 2,800 and 3,000 INR, showing that customer spending per order is stable. The median values are very close to the averages, which means there aren’t many extreme or unusual purchases affecting the data. Across most age groups, users who identify as “Other” tend to spend a bit more than males and females, both on average and in terms of median spending.\n",
    "\n",
    "**Recommendations:**\n",
    "\n",
    "* Focus your marketing on the 25–45 age group, as they not only buy more but also bring in the highest revenue.\n",
    "\n",
    "* Keep supporting all gender identities equally — all three groups (Female, Male, Other) show very similar spending habits.\n",
    "\n",
    "* Consider age-based personalized offers — while younger (<18) and older (60+) customers purchase less often, their average and median spend per order is still high."
   ]
  },
  {
   "cell_type": "markdown",
   "id": "0f01674b-c8d7-4967-be9b-51fcfd2a6d56",
   "metadata": {},
   "source": [
    "* **How do people pay, and how much do they spend with each method?**"
   ]
  },
  {
   "cell_type": "markdown",
   "id": "845fc99d-ca37-4438-b06f-2dc85128ff8b",
   "metadata": {},
   "source": [
    "Group the data by `Purchase Method` and calculate the total of `Net Amount`, total number of transactions `Transaction ID`, and the percentage share of each in total transactions:"
   ]
  },
  {
   "cell_type": "code",
   "execution_count": 116,
   "id": "6bf411d0-6b5c-4e44-b0cf-64b093aad3d4",
   "metadata": {},
   "outputs": [
    {
     "data": {
      "text/html": [
       "<style type=\"text/css\">\n",
       "#T_b6d62_row0_col0 {\n",
       "  background-color: #5ea0ca;\n",
       "  color: #f1f1f1;\n",
       "}\n",
       "#T_b6d62_row0_col1, #T_b6d62_row0_col2, #T_b6d62_row4_col0 {\n",
       "  background-color: #023858;\n",
       "  color: #f1f1f1;\n",
       "}\n",
       "#T_b6d62_row1_col0, #T_b6d62_row1_col2 {\n",
       "  background-color: #509ac6;\n",
       "  color: #f1f1f1;\n",
       "}\n",
       "#T_b6d62_row1_col1 {\n",
       "  background-color: #4e9ac6;\n",
       "  color: #f1f1f1;\n",
       "}\n",
       "#T_b6d62_row2_col0 {\n",
       "  background-color: #67a4cc;\n",
       "  color: #f1f1f1;\n",
       "}\n",
       "#T_b6d62_row2_col1, #T_b6d62_row2_col2 {\n",
       "  background-color: #e7e3f0;\n",
       "  color: #000000;\n",
       "}\n",
       "#T_b6d62_row3_col0 {\n",
       "  background-color: #a9bfdc;\n",
       "  color: #000000;\n",
       "}\n",
       "#T_b6d62_row3_col1 {\n",
       "  background-color: #fef6fa;\n",
       "  color: #000000;\n",
       "}\n",
       "#T_b6d62_row3_col2, #T_b6d62_row4_col1, #T_b6d62_row5_col1, #T_b6d62_row5_col2, #T_b6d62_row6_col1 {\n",
       "  background-color: #fef6fb;\n",
       "  color: #000000;\n",
       "}\n",
       "#T_b6d62_row4_col2, #T_b6d62_row6_col2, #T_b6d62_row7_col0, #T_b6d62_row7_col1, #T_b6d62_row7_col2 {\n",
       "  background-color: #fff7fb;\n",
       "  color: #000000;\n",
       "}\n",
       "#T_b6d62_row5_col0 {\n",
       "  background-color: #fcf4fa;\n",
       "  color: #000000;\n",
       "}\n",
       "#T_b6d62_row6_col0 {\n",
       "  background-color: #348ebf;\n",
       "  color: #f1f1f1;\n",
       "}\n",
       "</style>\n",
       "<table id=\"T_b6d62\">\n",
       "  <thead>\n",
       "    <tr>\n",
       "      <th class=\"blank level0\" >&nbsp;</th>\n",
       "      <th id=\"T_b6d62_level0_col0\" class=\"col_heading level0 col0\" >Average Net Amount</th>\n",
       "      <th id=\"T_b6d62_level0_col1\" class=\"col_heading level0 col1\" >Total Net Amount</th>\n",
       "      <th id=\"T_b6d62_level0_col2\" class=\"col_heading level0 col2\" >Total Transactions</th>\n",
       "    </tr>\n",
       "    <tr>\n",
       "      <th class=\"index_name level0\" >Purchase Method</th>\n",
       "      <th class=\"blank col0\" >&nbsp;</th>\n",
       "      <th class=\"blank col1\" >&nbsp;</th>\n",
       "      <th class=\"blank col2\" >&nbsp;</th>\n",
       "    </tr>\n",
       "  </thead>\n",
       "  <tbody>\n",
       "    <tr>\n",
       "      <th id=\"T_b6d62_level0_row0\" class=\"row_heading level0 row0\" >Credit Card</th>\n",
       "      <td id=\"T_b6d62_row0_col0\" class=\"data row0 col0\" >2,913.26</td>\n",
       "      <td id=\"T_b6d62_row0_col1\" class=\"data row0 col1\" >63,715,974</td>\n",
       "      <td id=\"T_b6d62_row0_col2\" class=\"data row0 col2\" >21,871</td>\n",
       "    </tr>\n",
       "    <tr>\n",
       "      <th id=\"T_b6d62_level0_row1\" class=\"row_heading level0 row1\" >Debit Card</th>\n",
       "      <td id=\"T_b6d62_row1_col0\" class=\"data row1 col0\" >2,916.89</td>\n",
       "      <td id=\"T_b6d62_row1_col1\" class=\"data row1 col1\" >39,789,299</td>\n",
       "      <td id=\"T_b6d62_row1_col2\" class=\"data row1 col2\" >13,641</td>\n",
       "    </tr>\n",
       "    <tr>\n",
       "      <th id=\"T_b6d62_level0_row2\" class=\"row_heading level0 row2\" >Net Banking</th>\n",
       "      <td id=\"T_b6d62_row2_col0\" class=\"data row2 col0\" >2,911.07</td>\n",
       "      <td id=\"T_b6d62_row2_col1\" class=\"data row2 col1\" >15,772,178</td>\n",
       "      <td id=\"T_b6d62_row2_col2\" class=\"data row2 col2\" >5,418</td>\n",
       "    </tr>\n",
       "    <tr>\n",
       "      <th id=\"T_b6d62_level0_row3\" class=\"row_heading level0 row3\" >International Card</th>\n",
       "      <td id=\"T_b6d62_row3_col0\" class=\"data row3 col0\" >2,891.28</td>\n",
       "      <td id=\"T_b6d62_row3_col1\" class=\"data row3 col1\" >8,049,329</td>\n",
       "      <td id=\"T_b6d62_row3_col2\" class=\"data row3 col2\" >2,784</td>\n",
       "    </tr>\n",
       "    <tr>\n",
       "      <th id=\"T_b6d62_level0_row4\" class=\"row_heading level0 row4\" >PhonePe UPI</th>\n",
       "      <td id=\"T_b6d62_row4_col0\" class=\"data row4 col0\" >2,969.28</td>\n",
       "      <td id=\"T_b6d62_row4_col1\" class=\"data row4 col1\" >7,883,451</td>\n",
       "      <td id=\"T_b6d62_row4_col2\" class=\"data row4 col2\" >2,655</td>\n",
       "    </tr>\n",
       "    <tr>\n",
       "      <th id=\"T_b6d62_level0_row5\" class=\"row_heading level0 row5\" >Cash on Delivery</th>\n",
       "      <td id=\"T_b6d62_row5_col0\" class=\"data row5 col0\" >2,848.83</td>\n",
       "      <td id=\"T_b6d62_row5_col1\" class=\"data row5 col1\" >7,791,551</td>\n",
       "      <td id=\"T_b6d62_row5_col2\" class=\"data row5 col2\" >2,735</td>\n",
       "    </tr>\n",
       "    <tr>\n",
       "      <th id=\"T_b6d62_level0_row6\" class=\"row_heading level0 row6\" >Paytm UPI</th>\n",
       "      <td id=\"T_b6d62_row6_col0\" class=\"data row6 col0\" >2,924.05</td>\n",
       "      <td id=\"T_b6d62_row6_col1\" class=\"data row6 col1\" >7,734,120</td>\n",
       "      <td id=\"T_b6d62_row6_col2\" class=\"data row6 col2\" >2,645</td>\n",
       "    </tr>\n",
       "    <tr>\n",
       "      <th id=\"T_b6d62_level0_row7\" class=\"row_heading level0 row7\" >Google Pay UPI</th>\n",
       "      <td id=\"T_b6d62_row7_col0\" class=\"data row7 col0\" >2,846.37</td>\n",
       "      <td id=\"T_b6d62_row7_col1\" class=\"data row7 col1\" >7,508,724</td>\n",
       "      <td id=\"T_b6d62_row7_col2\" class=\"data row7 col2\" >2,638</td>\n",
       "    </tr>\n",
       "  </tbody>\n",
       "</table>\n"
      ],
      "text/plain": [
       "<pandas.io.formats.style.Styler at 0x226e8b81fd0>"
      ]
     },
     "execution_count": 116,
     "metadata": {},
     "output_type": "execute_result"
    }
   ],
   "source": [
    "pivot_net_amount_by_payment_method = df_cleaned.pivot_table(\n",
    "    index='Purchase Method',\n",
    "    values=['Net Amount', 'Transaction ID'],\n",
    "    aggfunc={'Net Amount': ['mean', 'sum'], 'Transaction ID': 'count'},\n",
    "    observed=True\n",
    ")\n",
    "\n",
    "pivot_net_amount_by_payment_method.columns = [\n",
    "    'Average Net Amount',\n",
    "    'Total Net Amount',\n",
    "    'Total Transactions'\n",
    "]\n",
    "\n",
    "pivot_net_amount_by_payment_method = pivot_net_amount_by_payment_method.sort_values(\n",
    "    by='Total Net Amount', ascending=False\n",
    ")\n",
    "\n",
    "pivot_net_amount_by_payment_method.style.format(\n",
    "    {\n",
    "        'Average Net Amount': '{:,.2f}',\n",
    "        'Total Net Amount': '{:,.0f}',\n",
    "        'Total Transactions': '{:,.0f}'\n",
    "    }\n",
    ").background_gradient(axis=0)"
   ]
  },
  {
   "cell_type": "markdown",
   "id": "258ef36a-da6b-4774-b0d6-5f9501f32e08",
   "metadata": {},
   "source": [
    "**Data Insights:**\n",
    "\n",
    "Credit cards are the most popular payment method, accounting for the highest total spend — over 63 million INR.\n",
    "They are followed by debit cards with around 40 million INR.\n",
    "UPI services (PhonePe, Paytm, Google Pay) together contribute approximately 23 million INR, coming close to debit card usage.\n",
    "Net banking and cash on delivery are used less frequently — 15.7 million INR and 7.7 million INR, respectively.\n",
    "The average transaction amount across all methods remains steady, typically between 2,800–2,900 INR.\n",
    "\n",
    "**Recommendations:**\n",
    "\n",
    "* Keep promoting card payments, as they are the most popular.\n",
    "\n",
    "* Focus more on UPI apps for mobile users, offering bonuses or cashback.\n",
    "\n",
    "* Improve net banking, as it's growing.\n",
    "\n",
    "* Encourage switching from cash on delivery to digital payments with discounts or rewards."
   ]
  },
  {
   "cell_type": "markdown",
   "id": "ec6df5e9-3cea-4151-bacd-2c09e5191e4e",
   "metadata": {},
   "source": [
    "### Visualization Questions and Tableau Link"
   ]
  },
  {
   "cell_type": "markdown",
   "id": "79a83c18-dbe5-492d-b6e5-53531869cb84",
   "metadata": {},
   "source": [
    "The `Flexible Sales and Transaction Analytics Dashboard` is designed to analyze key sales and transaction metrics with flexible time period and parameter settings. It enables the study of sales volumes, distribution by city, discount impact, and transactions by product categories and age groups, adapting to the selected filters."
   ]
  },
  {
   "cell_type": "markdown",
   "id": "8abe0cc8-544f-438d-956c-67729b253bee",
   "metadata": {},
   "source": [
    "#### Sales and Transaction Analytics Dashboard\n",
    "[View the dashboard on Tableau](https://public.tableau.com/shared/CC5QCNQS4?:display_count=n&:origin=viz_share_link)"
   ]
  },
  {
   "cell_type": "markdown",
   "id": "07fdd45c-c9ee-4bdc-8f31-3a3390cf9bbd",
   "metadata": {},
   "source": [
    "**1. Sales Volumes (Net and Gross Amount)**"
   ]
  },
  {
   "cell_type": "markdown",
   "id": "a91d7379-3dcb-4d14-9d53-29c4739af47c",
   "metadata": {},
   "source": [
    "This chart displays sales volumes (net and gross amounts) for the selected time period, set by filters (year, quarter, month, day, time of day). The X-axis shows the time period, and the Y-axis shows the amount in INR. It helps track sales trends based on the applied filters."
   ]
  },
  {
   "cell_type": "markdown",
   "id": "8f57a168-515b-487f-9d0d-fa23d9c61c76",
   "metadata": {},
   "source": [
    "**2. Sales Distribution by City**"
   ]
  },
  {
   "cell_type": "markdown",
   "id": "bd521dbf-b792-4e3a-ab9a-399b16238e18",
   "metadata": {},
   "source": [
    "The map visualizes the distribution of sales across cities in India. The size of the dots reflects the sales volume in each city. Filters allow selecting a specific city or all cities to see the geographical distribution of sales."
   ]
  },
  {
   "cell_type": "markdown",
   "id": "9eac8e19-3273-4b39-9fc4-80af9d3f00b7",
   "metadata": {},
   "source": [
    "**3. Discount Contribution to Net Amount**"
   ]
  },
  {
   "cell_type": "markdown",
   "id": "c4a061b9-1e04-4c17-898c-2566b6c68688",
   "metadata": {},
   "source": [
    "The pie chart illustrates the contribution of discounts to the net sales amount. It breaks down sales by discount types (e.g., no discount, seasonal offers, etc.) and helps understand the share of sales attributed to different discount programs."
   ]
  },
  {
   "cell_type": "markdown",
   "id": "c8ce5c62-3d70-42fc-bdd1-1b0ef0ff84a8",
   "metadata": {},
   "source": [
    "**4. Category Peak Transactions**"
   ]
  },
  {
   "cell_type": "markdown",
   "id": "b8712138-cb15-45fb-8bb2-0aa0511cabeb",
   "metadata": {},
   "source": [
    "The line chart shows the average number of transactions by product categories over the selected period. Each line represents a category (e.g., Beauty & Health, Electronics). It helps identify transaction peaks by category based on the applied filters."
   ]
  },
  {
   "cell_type": "markdown",
   "id": "3fdef4da-9b07-46d7-9c9e-967d942c99f0",
   "metadata": {},
   "source": [
    "**5. Discounted Transaction Share by Age Groups and Product Categories (%)**"
   ]
  },
  {
   "cell_type": "markdown",
   "id": "53ca26a1-9e3a-49ea-9632-2906095e1bd3",
   "metadata": {},
   "source": [
    "The table displays the share of discounted transactions by age groups (e.g., 18-25 and 25-45) and product categories for the selected period. It allows comparing how often discounts are applied based on customer age and product categories."
   ]
  },
  {
   "cell_type": "markdown",
   "id": "0269099d-aec5-4d72-84da-0fd3c6ff90f2",
   "metadata": {},
   "source": [
    "#### The filters are located on the right side of the dashboard and let you easily control which data is shown."
   ]
  },
  {
   "cell_type": "markdown",
   "id": "7904a8e1-992a-41c9-83ba-f3922abb9c0b",
   "metadata": {},
   "source": [
    "**1. Aggregation Level**"
   ]
  },
  {
   "cell_type": "markdown",
   "id": "8b4c7310-7704-4a1f-b6ae-a2496fc3570c",
   "metadata": {},
   "source": [
    "This filter sets the data aggregation level: year, quarter, month, day, or time of day (morning, day, evening, night). It affects all charts, determining how data is grouped by time."
   ]
  },
  {
   "cell_type": "markdown",
   "id": "417d0a20-5815-47ed-803f-7b6eed02e7ef",
   "metadata": {},
   "source": [
    "**2. Year of Purchase**"
   ]
  },
  {
   "cell_type": "markdown",
   "id": "118f7cab-ae71-49cb-ba0b-11370349c455",
   "metadata": {},
   "source": [
    "Allows selecting one or multiple years for analysis. Charts update based on the selected period."
   ]
  },
  {
   "cell_type": "markdown",
   "id": "19eece5a-8115-43b6-942b-f3d9bbd1ab51",
   "metadata": {},
   "source": [
    "**3. Month Name**"
   ]
  },
  {
   "cell_type": "markdown",
   "id": "b5f5de48-f8f4-4146-8cf2-f587548a14a3",
   "metadata": {},
   "source": [
    "Filter to select a specific month or all months. Helps analyze data at the month level within the selected year."
   ]
  },
  {
   "cell_type": "markdown",
   "id": "8c09e136-9f75-4b19-b230-adbd84fad948",
   "metadata": {},
   "source": [
    "**4. Weekday Name**"
   ]
  },
  {
   "cell_type": "markdown",
   "id": "2a012ae0-165e-4f28-9c11-066febf68b17",
   "metadata": {},
   "source": [
    "Allows selecting a specific weekday (e.g., Monday, Saturday) or all days. Useful for analyzing transactions by weekday."
   ]
  },
  {
   "cell_type": "markdown",
   "id": "1c95c1b7-5d9a-4c0f-b339-f15b6cc37477",
   "metadata": {},
   "source": [
    "**5. Time Slot**"
   ]
  },
  {
   "cell_type": "markdown",
   "id": "63629c00-d96e-42f0-92ef-1da13e5786bc",
   "metadata": {},
   "source": [
    "Filter to select a time of day (morning, day, evening, night). Helps understand when sales are most frequent during the day."
   ]
  },
  {
   "cell_type": "markdown",
   "id": "a793c8dd-e74b-4402-83cd-033f9d2f5149",
   "metadata": {},
   "source": [
    "**6. Location**"
   ]
  },
  {
   "cell_type": "markdown",
   "id": "43c6f94e-f743-4666-8fe0-cc776c3915ad",
   "metadata": {},
   "source": [
    "Filter to select a specific city or all cities. Allows focusing on sales in a particular city or comparing all cities."
   ]
  },
  {
   "cell_type": "markdown",
   "id": "d0693c23-4648-4b81-86c0-72b01ee17317",
   "metadata": {},
   "source": [
    "**7. Age Group**"
   ]
  },
  {
   "cell_type": "markdown",
   "id": "cf2c58ff-4c66-4c45-a7b3-ea8f1eb69226",
   "metadata": {},
   "source": [
    "Allows selecting an age group (e.g., 18-25, 25-45) . Helps analyze customer behavior based on age."
   ]
  },
  {
   "cell_type": "markdown",
   "id": "a9205ef9-178e-413f-809e-b58e812c9aa3",
   "metadata": {},
   "source": [
    "**8. Product Category**"
   ]
  },
  {
   "cell_type": "markdown",
   "id": "f80f4775-1d68-4bcc-b26a-a6232a4585bd",
   "metadata": {},
   "source": [
    "Filter to select a discount type (e.g., SEASONALOFFER21, WELCOME) or all discounts. Helps understand the impact of specific discounts on sales."
   ]
  }
 ],
 "metadata": {
  "kernelspec": {
   "display_name": "Python [conda env:base] *",
   "language": "python",
   "name": "conda-base-py"
  },
  "language_info": {
   "codemirror_mode": {
    "name": "ipython",
    "version": 3
   },
   "file_extension": ".py",
   "mimetype": "text/x-python",
   "name": "python",
   "nbconvert_exporter": "python",
   "pygments_lexer": "ipython3",
   "version": "3.12.4"
  }
 },
 "nbformat": 4,
 "nbformat_minor": 5
}
